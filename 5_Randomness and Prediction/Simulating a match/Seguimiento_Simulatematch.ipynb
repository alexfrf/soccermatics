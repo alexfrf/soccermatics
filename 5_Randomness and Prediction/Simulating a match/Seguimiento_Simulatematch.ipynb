{
 "cells": [
  {
   "cell_type": "markdown",
   "id": "0dc80b3d",
   "metadata": {},
   "source": [
    "## Simulating a Match"
   ]
  },
  {
   "cell_type": "code",
   "execution_count": 1,
   "id": "63523f50",
   "metadata": {},
   "outputs": [],
   "source": [
    "import numpy as np\n",
    "import numpy.random as rand\n",
    "import time\n",
    "import pylab as plt"
   ]
  },
  {
   "cell_type": "code",
   "execution_count": 2,
   "id": "b103c66f",
   "metadata": {},
   "outputs": [
    {
     "name": "stdout",
     "output_type": "stream",
     "text": [
      "The probability of a goal per minute is 0.03100\n"
     ]
    }
   ],
   "source": [
    "#Length of match\n",
    "minutes = 90\n",
    "#Average goals per match\n",
    "goals_per_match = 2.79 # goles de media por partido\n",
    "#Probability of a goal per minute\n",
    "prob_per_minute = np.array(goals_per_match/minutes)\n",
    "print('The probability of a goal per minute is %5.5f' % prob_per_minute )"
   ]
  },
  {
   "cell_type": "markdown",
   "id": "556db72c",
   "metadata": {},
   "source": [
    "Simulamos una serie de 10 partidos, de cara a obtener la cantidad de goles en cada uno."
   ]
  },
  {
   "cell_type": "code",
   "execution_count": 3,
   "id": "ba3d3308",
   "metadata": {},
   "outputs": [
    {
     "name": "stdout",
     "output_type": "stream",
     "text": [
      "-----------------------------------------------------\n",
      "Partido 1\n",
      "o o o o o o o o o o x o o o o o o o o o o o o o o o x o o o o o o o o o o o o o o o o o o o o o o o o o o o o o o o o o o o o o o o o o o o o o o o o o o o o o o o o o o o o o o o \n",
      "\n",
      "Number of goals: 2\n",
      "-----------------------------------------------------\n",
      "Partido 2\n",
      "o o o o o o o o o o o o o o o o o o o o o o o o o x o o o o o o o o o o o o o o o o o o o o o o o o o o o o o o o o o o o o o o o o o o o o o o o o o o o o o x o o o o o o o x o o \n",
      "\n",
      "Number of goals: 3\n",
      "-----------------------------------------------------\n",
      "Partido 3\n",
      "o x o o o o o o o o o o o o o o o o o o o o o o o o o o o o o o o o o o o o o o o o o o o o o o o o o o o o o o o o o o o o o o o o o o o o o o o o o o o o o o o o o o o o o o o o \n",
      "\n",
      "Number of goals: 1\n",
      "-----------------------------------------------------\n",
      "Partido 4\n",
      "o o o o o o o o x x o o o o o o o o o o o o o o o o o o o o o o o o o o o o o o o x o o o o o o o o o o o o o o o o o o o o o o o o o o o o o o o o o o o o o o o o o o o o o o o o \n",
      "\n",
      "Number of goals: 3\n",
      "-----------------------------------------------------\n",
      "Partido 5\n",
      "o o o o o o o o o o o o o o x o o o o x o o o o o o o o o o o o o o o o o o o o o o o o o o o o o x o o o o o o o o o o o o o o o o o o o o o x o o o o o o o x o o o o o x o o o o \n",
      "\n",
      "Number of goals: 6\n",
      "-----------------------------------------------------\n",
      "Partido 6\n",
      "o o o o o o o o x o o o o o o o o o o o o o o o o o o o o o o o o o o o x o o o o o o o o o o o o o o o o o o o o o o o o o o o o o o o o o o o o o o o o o o o o o o o o o o o o o \n",
      "\n",
      "Number of goals: 2\n",
      "-----------------------------------------------------\n",
      "Partido 7\n",
      "o o o o o o o o o o o o o o o o o o o o o o o o o o o o o o o o o o o o x o o o o o o x o o o o o o o o o o o o o o o o o o o o o o o o o o o o o o o o o o o o o o o o o o o o o o \n",
      "\n",
      "Number of goals: 2\n",
      "-----------------------------------------------------\n",
      "Partido 8\n",
      "o o o o o o o o o o o o o o o o o o o o o o o o o o o o o o o o o o o o x o o o o o x o o o o o o o o o o o o o o o o o o o o o o o x o o o x o o o o x o o x o o o o o o o x x o o \n",
      "\n",
      "Number of goals: 8\n",
      "-----------------------------------------------------\n",
      "Partido 9\n",
      "o o o o o o o o o o o o o o o o o o o o o o o o o o o o o o o o x o o o o o o o o o o o o o o x o o o o o o o o o o o o o o o o o o o o o o o o o o o o o o o o o o o o o o o o o o \n",
      "\n",
      "Number of goals: 2\n",
      "-----------------------------------------------------\n",
      "Partido 10\n",
      "o o o o o o o o o o o o o o o o o o o o o o o o o o o o o o o o o o o o x o o o o o o o o o o o o o o o o o o o o o o o o o o o o o o o o o o o o o o o o o o o o o o o x x o o o o \n",
      "\n",
      "Number of goals: 3\n"
     ]
    }
   ],
   "source": [
    "goals = 0\n",
    "\n",
    "\n",
    "for n in range(10):\n",
    "    print('-----------------------------------------------------')\n",
    "    print('Partido {}'.format(n+1))\n",
    "    goals_game = 0\n",
    "    for minute in range(minutes):\n",
    "        prob = rand.rand(1)[0]\n",
    "        if prob < prob_per_minute:\n",
    "            print('x',end = ' ')\n",
    "            goals_game+=1\n",
    "            time.sleep(1)\n",
    "        else:\n",
    "            print('o',end = ' ')\n",
    "            time.sleep(0.1)\n",
    "    goals+=goals_game\n",
    "    print('\\n')\n",
    "    print('Number of goals: {}'.format(goals_game))"
   ]
  },
  {
   "cell_type": "code",
   "execution_count": 4,
   "id": "6db9ce97",
   "metadata": {},
   "outputs": [
    {
     "name": "stdout",
     "output_type": "stream",
     "text": [
      "Goles por Partido: 3.2\n"
     ]
    }
   ],
   "source": [
    "print('Goles por Partido: {}'.format(goals/10))"
   ]
  },
  {
   "cell_type": "markdown",
   "id": "ec7ee5f0",
   "metadata": {},
   "source": [
    "Lo normal es que un partido tenga entre dos o tres goles. La mayoría de encuentros tienen hasta cinco goles."
   ]
  },
  {
   "cell_type": "markdown",
   "id": "e74ae1bf",
   "metadata": {},
   "source": [
    "Lo que haremos ahora es simular una temporada completa de fútbol (los 380 partidos que hay en una liga de 20). Computaremos el total de goles de cada partido y realizaremos un histograma con el nº de goles en cada partido."
   ]
  },
  {
   "cell_type": "code",
   "execution_count": 5,
   "id": "30be341d",
   "metadata": {},
   "outputs": [
    {
     "data": {
      "image/png": "[encoded data removed]",
      "text/plain": [
       "<Figure size 432x288 with 1 Axes>"
      ]
     },
     "metadata": {
      "needs_background": "light"
     },
     "output_type": "display_data"
    }
   ],
   "source": [
    "num_matches = 380\n",
    "def simulateMatch(n, p):\n",
    "  # n - number of time units\n",
    "  # p - probability per time unit of a goal\n",
    "  # display_match == True then display simulation output for match.\n",
    "\n",
    "  # Count the number of goals\n",
    "    goals = 0\n",
    "\n",
    "    for minute in range(n):\n",
    "      # Generate a random number between 0 and 1.\n",
    "        r = rand.rand(1)[0]\n",
    "      # Prints an X when there is a goal and a zero otherwise.\n",
    "        if (r < p):\n",
    "        # Goal - if the random number is less than the goal probability.\n",
    "            goals = goals + 1\n",
    "\n",
    "    return goals\n",
    "\n",
    "goals = np.zeros(num_matches)\n",
    "for i in range(num_matches):\n",
    "    goals[i] = simulateMatch(minutes, prob_per_minute)\n",
    "    \n",
    "fig, ax = plt.subplots(num=1)\n",
    "histogram_range = np.arange(-0.5, 11, 1)\n",
    "histogram_goals = np.histogram(goals, histogram_range)\n",
    "\n",
    "ax.bar(histogram_goals[1][:-1] + 0.5, histogram_goals[0], color='red', edgecolor='black', linestyle='-', alpha=0.5)\n",
    "ax.set_ylim(0, 100)\n",
    "ax.spines['top'].set_visible(False)\n",
    "ax.spines['right'].set_visible(False)\n",
    "ax.set_xticks(np.arange(0, 12, step=1))\n",
    "ax.set_yticks(np.arange(0, 101, step=20))\n",
    "ax.set_xlabel('Number of goals')\n",
    "ax.set_ylabel('Number of matches')\n",
    "plt.show()"
   ]
  },
  {
   "cell_type": "markdown",
   "id": "fdacd892",
   "metadata": {},
   "source": [
    "### Simulating Results"
   ]
  },
  {
   "cell_type": "markdown",
   "id": "4fe51b17",
   "metadata": {},
   "source": [
    "Emplearemos Regresión de Poisson para hacer un modelo basándonos en datos de la Premier League y aplicándolo a dos equipos de cara a simular el resultado de sus enfrentamientos"
   ]
  },
  {
   "cell_type": "code",
   "execution_count": 6,
   "id": "6f698207",
   "metadata": {},
   "outputs": [],
   "source": [
    "import statsmodels.api as sm\n",
    "import statsmodels.formula.api as smf\n",
    "import pandas as pd\n",
    "import matplotlib.pyplot as plt\n",
    "import numpy as np\n",
    "import seaborn\n",
    "from scipy.stats import poisson,skellam"
   ]
  },
  {
   "cell_type": "code",
   "execution_count": 7,
   "id": "1adfb154",
   "metadata": {},
   "outputs": [
    {
     "data": {
      "text/html": [
       "<div>\n",
       "<style scoped>\n",
       "    .dataframe tbody tr th:only-of-type {\n",
       "        vertical-align: middle;\n",
       "    }\n",
       "\n",
       "    .dataframe tbody tr th {\n",
       "        vertical-align: top;\n",
       "    }\n",
       "\n",
       "    .dataframe thead th {\n",
       "        text-align: right;\n",
       "    }\n",
       "</style>\n",
       "<table border=\"1\" class=\"dataframe\">\n",
       "  <thead>\n",
       "    <tr style=\"text-align: right;\">\n",
       "      <th></th>\n",
       "      <th>Div</th>\n",
       "      <th>Date</th>\n",
       "      <th>Time</th>\n",
       "      <th>HomeTeam</th>\n",
       "      <th>AwayTeam</th>\n",
       "      <th>FTHG</th>\n",
       "      <th>FTAG</th>\n",
       "      <th>FTR</th>\n",
       "      <th>HTHG</th>\n",
       "      <th>HTAG</th>\n",
       "      <th>...</th>\n",
       "      <th>AvgC&lt;2.5</th>\n",
       "      <th>AHCh</th>\n",
       "      <th>B365CAHH</th>\n",
       "      <th>B365CAHA</th>\n",
       "      <th>PCAHH</th>\n",
       "      <th>PCAHA</th>\n",
       "      <th>MaxCAHH</th>\n",
       "      <th>MaxCAHA</th>\n",
       "      <th>AvgCAHH</th>\n",
       "      <th>AvgCAHA</th>\n",
       "    </tr>\n",
       "  </thead>\n",
       "  <tbody>\n",
       "    <tr>\n",
       "      <th>0</th>\n",
       "      <td>E0</td>\n",
       "      <td>13/08/2021</td>\n",
       "      <td>20:00</td>\n",
       "      <td>Brentford</td>\n",
       "      <td>Arsenal</td>\n",
       "      <td>2</td>\n",
       "      <td>0</td>\n",
       "      <td>H</td>\n",
       "      <td>1</td>\n",
       "      <td>0</td>\n",
       "      <td>...</td>\n",
       "      <td>1.62</td>\n",
       "      <td>0.50</td>\n",
       "      <td>1.75</td>\n",
       "      <td>2.05</td>\n",
       "      <td>1.81</td>\n",
       "      <td>2.13</td>\n",
       "      <td>2.05</td>\n",
       "      <td>2.17</td>\n",
       "      <td>1.80</td>\n",
       "      <td>2.09</td>\n",
       "    </tr>\n",
       "    <tr>\n",
       "      <th>1</th>\n",
       "      <td>E0</td>\n",
       "      <td>14/08/2021</td>\n",
       "      <td>12:30</td>\n",
       "      <td>Man United</td>\n",
       "      <td>Leeds</td>\n",
       "      <td>5</td>\n",
       "      <td>1</td>\n",
       "      <td>H</td>\n",
       "      <td>1</td>\n",
       "      <td>0</td>\n",
       "      <td>...</td>\n",
       "      <td>2.25</td>\n",
       "      <td>-1.00</td>\n",
       "      <td>2.05</td>\n",
       "      <td>1.75</td>\n",
       "      <td>2.17</td>\n",
       "      <td>1.77</td>\n",
       "      <td>2.19</td>\n",
       "      <td>1.93</td>\n",
       "      <td>2.10</td>\n",
       "      <td>1.79</td>\n",
       "    </tr>\n",
       "    <tr>\n",
       "      <th>2</th>\n",
       "      <td>E0</td>\n",
       "      <td>14/08/2021</td>\n",
       "      <td>15:00</td>\n",
       "      <td>Burnley</td>\n",
       "      <td>Brighton</td>\n",
       "      <td>1</td>\n",
       "      <td>2</td>\n",
       "      <td>A</td>\n",
       "      <td>1</td>\n",
       "      <td>0</td>\n",
       "      <td>...</td>\n",
       "      <td>1.62</td>\n",
       "      <td>0.25</td>\n",
       "      <td>1.79</td>\n",
       "      <td>2.15</td>\n",
       "      <td>1.81</td>\n",
       "      <td>2.14</td>\n",
       "      <td>1.82</td>\n",
       "      <td>2.19</td>\n",
       "      <td>1.79</td>\n",
       "      <td>2.12</td>\n",
       "    </tr>\n",
       "    <tr>\n",
       "      <th>3</th>\n",
       "      <td>E0</td>\n",
       "      <td>14/08/2021</td>\n",
       "      <td>15:00</td>\n",
       "      <td>Chelsea</td>\n",
       "      <td>Crystal Palace</td>\n",
       "      <td>3</td>\n",
       "      <td>0</td>\n",
       "      <td>H</td>\n",
       "      <td>2</td>\n",
       "      <td>0</td>\n",
       "      <td>...</td>\n",
       "      <td>1.94</td>\n",
       "      <td>-1.50</td>\n",
       "      <td>2.05</td>\n",
       "      <td>1.75</td>\n",
       "      <td>2.12</td>\n",
       "      <td>1.81</td>\n",
       "      <td>2.16</td>\n",
       "      <td>1.93</td>\n",
       "      <td>2.06</td>\n",
       "      <td>1.82</td>\n",
       "    </tr>\n",
       "    <tr>\n",
       "      <th>4</th>\n",
       "      <td>E0</td>\n",
       "      <td>14/08/2021</td>\n",
       "      <td>15:00</td>\n",
       "      <td>Everton</td>\n",
       "      <td>Southampton</td>\n",
       "      <td>3</td>\n",
       "      <td>1</td>\n",
       "      <td>H</td>\n",
       "      <td>0</td>\n",
       "      <td>1</td>\n",
       "      <td>...</td>\n",
       "      <td>1.67</td>\n",
       "      <td>-0.50</td>\n",
       "      <td>2.05</td>\n",
       "      <td>1.88</td>\n",
       "      <td>2.05</td>\n",
       "      <td>1.88</td>\n",
       "      <td>2.08</td>\n",
       "      <td>1.90</td>\n",
       "      <td>2.03</td>\n",
       "      <td>1.86</td>\n",
       "    </tr>\n",
       "  </tbody>\n",
       "</table>\n",
       "<p>5 rows × 106 columns</p>\n",
       "</div>"
      ],
      "text/plain": [
       "  Div        Date   Time    HomeTeam        AwayTeam  FTHG  FTAG FTR  HTHG  \\\n",
       "0  E0  13/08/2021  20:00   Brentford         Arsenal     2     0   H     1   \n",
       "1  E0  14/08/2021  12:30  Man United           Leeds     5     1   H     1   \n",
       "2  E0  14/08/2021  15:00     Burnley        Brighton     1     2   A     1   \n",
       "3  E0  14/08/2021  15:00     Chelsea  Crystal Palace     3     0   H     2   \n",
       "4  E0  14/08/2021  15:00     Everton     Southampton     3     1   H     0   \n",
       "\n",
       "   HTAG  ... AvgC<2.5  AHCh  B365CAHH  B365CAHA  PCAHH  PCAHA  MaxCAHH  \\\n",
       "0     0  ...     1.62  0.50      1.75      2.05   1.81   2.13     2.05   \n",
       "1     0  ...     2.25 -1.00      2.05      1.75   2.17   1.77     2.19   \n",
       "2     0  ...     1.62  0.25      1.79      2.15   1.81   2.14     1.82   \n",
       "3     0  ...     1.94 -1.50      2.05      1.75   2.12   1.81     2.16   \n",
       "4     1  ...     1.67 -0.50      2.05      1.88   2.05   1.88     2.08   \n",
       "\n",
       "   MaxCAHA  AvgCAHH  AvgCAHA  \n",
       "0     2.17     1.80     2.09  \n",
       "1     1.93     2.10     1.79  \n",
       "2     2.19     1.79     2.12  \n",
       "3     1.93     2.06     1.82  \n",
       "4     1.90     2.03     1.86  \n",
       "\n",
       "[5 rows x 106 columns]"
      ]
     },
     "execution_count": 7,
     "metadata": {},
     "output_type": "execute_result"
    }
   ],
   "source": [
    "pl = pd.read_csv(\"https://www.football-data.co.uk/mmz4281/2122/E0.csv\")\n",
    "pl.head()"
   ]
  },
  {
   "cell_type": "code",
   "execution_count": 8,
   "id": "31a9c2ee",
   "metadata": {},
   "outputs": [
    {
     "data": {
      "text/plain": [
       "380"
      ]
     },
     "execution_count": 8,
     "metadata": {},
     "output_type": "execute_result"
    }
   ],
   "source": [
    "pl.shape[0]"
   ]
  },
  {
   "cell_type": "code",
   "execution_count": 9,
   "id": "fa398f69",
   "metadata": {},
   "outputs": [
    {
     "name": "stderr",
     "output_type": "stream",
     "text": [
      "C:\\Users\\aleex\\AppData\\Local\\Temp/ipykernel_8584/3146450205.py:5: FutureWarning: Dropping of nuisance columns in DataFrame reductions (with 'numeric_only=None') is deprecated; in a future version this will raise TypeError.  Select only valid columns before calling the reduction.\n",
      "  pl.mean()\n"
     ]
    },
    {
     "data": {
      "text/plain": [
       "HomeGoals    1.491892\n",
       "AwayGoals    1.297297\n",
       "dtype: float64"
      ]
     },
     "execution_count": 9,
     "metadata": {},
     "output_type": "execute_result"
    }
   ],
   "source": [
    "pl = pl[['HomeTeam','AwayTeam','FTHG','FTAG']]\n",
    "pl = pl.rename(columns={'FTHG': 'HomeGoals', 'FTAG': 'AwayGoals'})\n",
    "\n",
    "pl = pl[:-10]\n",
    "pl.mean()"
   ]
  },
  {
   "cell_type": "code",
   "execution_count": 10,
   "id": "00b22bc4",
   "metadata": {},
   "outputs": [
    {
     "data": {
      "text/html": [
       "<div>\n",
       "<style scoped>\n",
       "    .dataframe tbody tr th:only-of-type {\n",
       "        vertical-align: middle;\n",
       "    }\n",
       "\n",
       "    .dataframe tbody tr th {\n",
       "        vertical-align: top;\n",
       "    }\n",
       "\n",
       "    .dataframe thead th {\n",
       "        text-align: right;\n",
       "    }\n",
       "</style>\n",
       "<table border=\"1\" class=\"dataframe\">\n",
       "  <thead>\n",
       "    <tr style=\"text-align: right;\">\n",
       "      <th></th>\n",
       "      <th>team</th>\n",
       "      <th>opponent</th>\n",
       "      <th>goals</th>\n",
       "      <th>home</th>\n",
       "    </tr>\n",
       "  </thead>\n",
       "  <tbody>\n",
       "    <tr>\n",
       "      <th>0</th>\n",
       "      <td>Brentford</td>\n",
       "      <td>Arsenal</td>\n",
       "      <td>2</td>\n",
       "      <td>1</td>\n",
       "    </tr>\n",
       "    <tr>\n",
       "      <th>1</th>\n",
       "      <td>Man United</td>\n",
       "      <td>Leeds</td>\n",
       "      <td>5</td>\n",
       "      <td>1</td>\n",
       "    </tr>\n",
       "    <tr>\n",
       "      <th>2</th>\n",
       "      <td>Burnley</td>\n",
       "      <td>Brighton</td>\n",
       "      <td>1</td>\n",
       "      <td>1</td>\n",
       "    </tr>\n",
       "    <tr>\n",
       "      <th>3</th>\n",
       "      <td>Chelsea</td>\n",
       "      <td>Crystal Palace</td>\n",
       "      <td>3</td>\n",
       "      <td>1</td>\n",
       "    </tr>\n",
       "    <tr>\n",
       "      <th>4</th>\n",
       "      <td>Everton</td>\n",
       "      <td>Southampton</td>\n",
       "      <td>3</td>\n",
       "      <td>1</td>\n",
       "    </tr>\n",
       "  </tbody>\n",
       "</table>\n",
       "</div>"
      ],
      "text/plain": [
       "         team        opponent  goals  home\n",
       "0   Brentford         Arsenal      2     1\n",
       "1  Man United           Leeds      5     1\n",
       "2     Burnley        Brighton      1     1\n",
       "3     Chelsea  Crystal Palace      3     1\n",
       "4     Everton     Southampton      3     1"
      ]
     },
     "execution_count": 10,
     "metadata": {},
     "output_type": "execute_result"
    }
   ],
   "source": [
    "casa = pl[['HomeTeam','AwayTeam','HomeGoals']]\n",
    "casa['home'] = 1\n",
    "casa.rename({'HomeTeam':'team', 'AwayTeam':'opponent','HomeGoals':'goals'},axis=1,inplace=True)\n",
    "\n",
    "vis = pl[['AwayTeam','HomeTeam','AwayGoals']]\n",
    "vis['home'] = 0\n",
    "vis.rename({'AwayTeam':'team', 'HomeTeam':'opponent','AwayGoals':'goals'},axis=1,inplace=True)\n",
    "\n",
    "goal_model_data = pd.concat([casa,vis])\n",
    "goal_model_data.head()"
   ]
  },
  {
   "cell_type": "code",
   "execution_count": 11,
   "id": "ed63d04e",
   "metadata": {},
   "outputs": [
    {
     "data": {
      "text/plain": [
       "740"
      ]
     },
     "execution_count": 11,
     "metadata": {},
     "output_type": "execute_result"
    }
   ],
   "source": [
    "goal_model_data.shape[0]"
   ]
  },
  {
   "cell_type": "markdown",
   "id": "fe9a21d4",
   "metadata": {},
   "source": [
    "Elaboramos el modelo de poisson a partir de un dataframe que tiene, para cada partido, dos líneas, con el equipo, su rival, los goles y si era el local o el visitante. Nuestro modelo tratará de predecir el número de goles anotados a partir de las otras tres variables mencionadas."
   ]
  },
  {
   "cell_type": "code",
   "execution_count": 12,
   "id": "0f74e97c",
   "metadata": {},
   "outputs": [
    {
     "name": "stderr",
     "output_type": "stream",
     "text": [
      "C:\\Users\\aleex\\anaconda3\\lib\\site-packages\\statsmodels\\base\\model.py:127: ValueWarning: unknown kwargs ['familty']\n",
      "  warnings.warn(msg, ValueWarning)\n"
     ]
    },
    {
     "data": {
      "text/html": [
       "<table class=\"simpletable\">\n",
       "<caption>Generalized Linear Model Regression Results</caption>\n",
       "<tr>\n",
       "  <th>Dep. Variable:</th>         <td>goals</td>      <th>  No. Observations:  </th>  <td>   740</td> \n",
       "</tr>\n",
       "<tr>\n",
       "  <th>Model:</th>                  <td>GLM</td>       <th>  Df Residuals:      </th>  <td>   700</td> \n",
       "</tr>\n",
       "<tr>\n",
       "  <th>Model Family:</th>        <td>Gaussian</td>     <th>  Df Model:          </th>  <td>    39</td> \n",
       "</tr>\n",
       "<tr>\n",
       "  <th>Link Function:</th>       <td>identity</td>     <th>  Scale:             </th> <td>  1.3228</td>\n",
       "</tr>\n",
       "<tr>\n",
       "  <th>Method:</th>                <td>IRLS</td>       <th>  Log-Likelihood:    </th> <td> -1133.0</td>\n",
       "</tr>\n",
       "<tr>\n",
       "  <th>Date:</th>            <td>Sat, 05 Nov 2022</td> <th>  Deviance:          </th> <td>  925.98</td>\n",
       "</tr>\n",
       "<tr>\n",
       "  <th>Time:</th>                <td>23:19:43</td>     <th>  Pearson chi2:      </th>  <td>  926.</td> \n",
       "</tr>\n",
       "<tr>\n",
       "  <th>No. Iterations:</th>          <td>3</td>        <th>  Pseudo R-squ. (CS):</th>  <td>0.2672</td> \n",
       "</tr>\n",
       "<tr>\n",
       "  <th>Covariance Type:</th>     <td>nonrobust</td>    <th>                     </th>     <td> </td>   \n",
       "</tr>\n",
       "</table>\n",
       "<table class=\"simpletable\">\n",
       "<tr>\n",
       "               <td></td>                 <th>coef</th>     <th>std err</th>      <th>z</th>      <th>P>|z|</th>  <th>[0.025</th>    <th>0.975]</th>  \n",
       "</tr>\n",
       "<tr>\n",
       "  <th>Intercept</th>                  <td>    1.2837</td> <td>    0.274</td> <td>    4.677</td> <td> 0.000</td> <td>    0.746</td> <td>    1.822</td>\n",
       "</tr>\n",
       "<tr>\n",
       "  <th>team[T.Aston Villa]</th>        <td>   -0.1854</td> <td>    0.268</td> <td>   -0.692</td> <td> 0.489</td> <td>   -0.710</td> <td>    0.340</td>\n",
       "</tr>\n",
       "<tr>\n",
       "  <th>team[T.Brentford]</th>          <td>   -0.2215</td> <td>    0.268</td> <td>   -0.827</td> <td> 0.408</td> <td>   -0.747</td> <td>    0.304</td>\n",
       "</tr>\n",
       "<tr>\n",
       "  <th>team[T.Brighton]</th>           <td>   -0.4753</td> <td>    0.268</td> <td>   -1.774</td> <td> 0.076</td> <td>   -1.000</td> <td>    0.050</td>\n",
       "</tr>\n",
       "<tr>\n",
       "  <th>team[T.Burnley]</th>            <td>   -0.6180</td> <td>    0.268</td> <td>   -2.307</td> <td> 0.021</td> <td>   -1.143</td> <td>   -0.093</td>\n",
       "</tr>\n",
       "<tr>\n",
       "  <th>team[T.Chelsea]</th>            <td>    0.4759</td> <td>    0.268</td> <td>    1.776</td> <td> 0.076</td> <td>   -0.049</td> <td>    1.001</td>\n",
       "</tr>\n",
       "<tr>\n",
       "  <th>team[T.Crystal Palace]</th>     <td>   -0.1938</td> <td>    0.268</td> <td>   -0.724</td> <td> 0.469</td> <td>   -0.719</td> <td>    0.331</td>\n",
       "</tr>\n",
       "<tr>\n",
       "  <th>team[T.Everton]</th>            <td>   -0.3740</td> <td>    0.268</td> <td>   -1.398</td> <td> 0.162</td> <td>   -0.898</td> <td>    0.150</td>\n",
       "</tr>\n",
       "<tr>\n",
       "  <th>team[T.Leeds]</th>              <td>   -0.3988</td> <td>    0.268</td> <td>   -1.489</td> <td> 0.137</td> <td>   -0.924</td> <td>    0.126</td>\n",
       "</tr>\n",
       "<tr>\n",
       "  <th>team[T.Leicester]</th>          <td>    0.0719</td> <td>    0.268</td> <td>    0.268</td> <td> 0.788</td> <td>   -0.453</td> <td>    0.597</td>\n",
       "</tr>\n",
       "<tr>\n",
       "  <th>team[T.Liverpool]</th>          <td>    0.9012</td> <td>    0.268</td> <td>    3.364</td> <td> 0.001</td> <td>    0.376</td> <td>    1.426</td>\n",
       "</tr>\n",
       "<tr>\n",
       "  <th>team[T.Man City]</th>           <td>    1.0445</td> <td>    0.268</td> <td>    3.899</td> <td> 0.000</td> <td>    0.519</td> <td>    1.570</td>\n",
       "</tr>\n",
       "<tr>\n",
       "  <th>team[T.Man United]</th>         <td>    0.0243</td> <td>    0.268</td> <td>    0.091</td> <td> 0.928</td> <td>   -0.501</td> <td>    0.549</td>\n",
       "</tr>\n",
       "<tr>\n",
       "  <th>team[T.Newcastle]</th>          <td>   -0.3728</td> <td>    0.268</td> <td>   -1.392</td> <td> 0.164</td> <td>   -0.898</td> <td>    0.152</td>\n",
       "</tr>\n",
       "<tr>\n",
       "  <th>team[T.Norwich]</th>            <td>   -0.8619</td> <td>    0.268</td> <td>   -3.217</td> <td> 0.001</td> <td>   -1.387</td> <td>   -0.337</td>\n",
       "</tr>\n",
       "<tr>\n",
       "  <th>team[T.Southampton]</th>        <td>   -0.3627</td> <td>    0.268</td> <td>   -1.354</td> <td> 0.176</td> <td>   -0.888</td> <td>    0.162</td>\n",
       "</tr>\n",
       "<tr>\n",
       "  <th>team[T.Tottenham]</th>          <td>    0.2130</td> <td>    0.268</td> <td>    0.795</td> <td> 0.427</td> <td>   -0.312</td> <td>    0.738</td>\n",
       "</tr>\n",
       "<tr>\n",
       "  <th>team[T.Watford]</th>            <td>   -0.6072</td> <td>    0.268</td> <td>   -2.266</td> <td> 0.023</td> <td>   -1.132</td> <td>   -0.082</td>\n",
       "</tr>\n",
       "<tr>\n",
       "  <th>team[T.West Ham]</th>           <td>    0.0638</td> <td>    0.268</td> <td>    0.238</td> <td> 0.812</td> <td>   -0.461</td> <td>    0.589</td>\n",
       "</tr>\n",
       "<tr>\n",
       "  <th>team[T.Wolves]</th>             <td>   -0.5539</td> <td>    0.268</td> <td>   -2.067</td> <td> 0.039</td> <td>   -1.079</td> <td>   -0.029</td>\n",
       "</tr>\n",
       "<tr>\n",
       "  <th>opponent[T.Aston Villa]</th>    <td>    0.1421</td> <td>    0.268</td> <td>    0.530</td> <td> 0.596</td> <td>   -0.383</td> <td>    0.667</td>\n",
       "</tr>\n",
       "<tr>\n",
       "  <th>opponent[T.Brentford]</th>      <td>    0.1765</td> <td>    0.268</td> <td>    0.659</td> <td> 0.510</td> <td>   -0.349</td> <td>    0.702</td>\n",
       "</tr>\n",
       "<tr>\n",
       "  <th>opponent[T.Brighton]</th>       <td>   -0.1220</td> <td>    0.268</td> <td>   -0.455</td> <td> 0.649</td> <td>   -0.647</td> <td>    0.403</td>\n",
       "</tr>\n",
       "<tr>\n",
       "  <th>opponent[T.Burnley]</th>        <td>    0.0747</td> <td>    0.268</td> <td>    0.279</td> <td> 0.780</td> <td>   -0.450</td> <td>    0.600</td>\n",
       "</tr>\n",
       "<tr>\n",
       "  <th>opponent[T.Chelsea]</th>        <td>   -0.3860</td> <td>    0.268</td> <td>   -1.441</td> <td> 0.150</td> <td>   -0.911</td> <td>    0.139</td>\n",
       "</tr>\n",
       "<tr>\n",
       "  <th>opponent[T.Crystal Palace]</th> <td>   -0.0267</td> <td>    0.268</td> <td>   -0.100</td> <td> 0.920</td> <td>   -0.552</td> <td>    0.498</td>\n",
       "</tr>\n",
       "<tr>\n",
       "  <th>opponent[T.Everton]</th>        <td>    0.3740</td> <td>    0.268</td> <td>    1.398</td> <td> 0.162</td> <td>   -0.150</td> <td>    0.898</td>\n",
       "</tr>\n",
       "<tr>\n",
       "  <th>opponent[T.Leeds]</th>          <td>    0.8261</td> <td>    0.268</td> <td>    3.084</td> <td> 0.002</td> <td>    0.301</td> <td>    1.351</td>\n",
       "</tr>\n",
       "<tr>\n",
       "  <th>opponent[T.Leicester]</th>      <td>    0.3015</td> <td>    0.268</td> <td>    1.125</td> <td> 0.260</td> <td>   -0.224</td> <td>    0.827</td>\n",
       "</tr>\n",
       "<tr>\n",
       "  <th>opponent[T.Liverpool]</th>      <td>   -0.5507</td> <td>    0.268</td> <td>   -2.056</td> <td> 0.040</td> <td>   -1.076</td> <td>   -0.026</td>\n",
       "</tr>\n",
       "<tr>\n",
       "  <th>opponent[T.Man City]</th>       <td>   -0.5601</td> <td>    0.268</td> <td>   -2.091</td> <td> 0.037</td> <td>   -1.085</td> <td>   -0.035</td>\n",
       "</tr>\n",
       "<tr>\n",
       "  <th>opponent[T.Man United]</th>     <td>    0.2551</td> <td>    0.268</td> <td>    0.952</td> <td> 0.341</td> <td>   -0.270</td> <td>    0.780</td>\n",
       "</tr>\n",
       "<tr>\n",
       "  <th>opponent[T.Newcastle]</th>      <td>    0.3573</td> <td>    0.268</td> <td>    1.334</td> <td> 0.182</td> <td>   -0.168</td> <td>    0.882</td>\n",
       "</tr>\n",
       "<tr>\n",
       "  <th>opponent[T.Norwich]</th>        <td>    0.8341</td> <td>    0.268</td> <td>    3.114</td> <td> 0.002</td> <td>    0.309</td> <td>    1.359</td>\n",
       "</tr>\n",
       "<tr>\n",
       "  <th>opponent[T.Southampton]</th>    <td>    0.4306</td> <td>    0.268</td> <td>    1.607</td> <td> 0.108</td> <td>   -0.095</td> <td>    0.956</td>\n",
       "</tr>\n",
       "<tr>\n",
       "  <th>opponent[T.Tottenham]</th>      <td>   -0.1852</td> <td>    0.268</td> <td>   -0.691</td> <td> 0.489</td> <td>   -0.710</td> <td>    0.340</td>\n",
       "</tr>\n",
       "<tr>\n",
       "  <th>opponent[T.Watford]</th>        <td>    0.7526</td> <td>    0.268</td> <td>    2.809</td> <td> 0.005</td> <td>    0.228</td> <td>    1.278</td>\n",
       "</tr>\n",
       "<tr>\n",
       "  <th>opponent[T.West Ham]</th>       <td>    0.0334</td> <td>    0.268</td> <td>    0.125</td> <td> 0.901</td> <td>   -0.492</td> <td>    0.558</td>\n",
       "</tr>\n",
       "<tr>\n",
       "  <th>opponent[T.Wolves]</th>         <td>   -0.1790</td> <td>    0.268</td> <td>   -0.668</td> <td> 0.504</td> <td>   -0.704</td> <td>    0.346</td>\n",
       "</tr>\n",
       "<tr>\n",
       "  <th>home</th>                       <td>    0.2101</td> <td>    0.085</td> <td>    2.483</td> <td> 0.013</td> <td>    0.044</td> <td>    0.376</td>\n",
       "</tr>\n",
       "</table>"
      ],
      "text/plain": [
       "<class 'statsmodels.iolib.summary.Summary'>\n",
       "\"\"\"\n",
       "                 Generalized Linear Model Regression Results                  \n",
       "==============================================================================\n",
       "Dep. Variable:                  goals   No. Observations:                  740\n",
       "Model:                            GLM   Df Residuals:                      700\n",
       "Model Family:                Gaussian   Df Model:                           39\n",
       "Link Function:               identity   Scale:                          1.3228\n",
       "Method:                          IRLS   Log-Likelihood:                -1133.0\n",
       "Date:                Sat, 05 Nov 2022   Deviance:                       925.98\n",
       "Time:                        23:19:43   Pearson chi2:                     926.\n",
       "No. Iterations:                     3   Pseudo R-squ. (CS):             0.2672\n",
       "Covariance Type:            nonrobust                                         \n",
       "==============================================================================================\n",
       "                                 coef    std err          z      P>|z|      [0.025      0.975]\n",
       "----------------------------------------------------------------------------------------------\n",
       "Intercept                      1.2837      0.274      4.677      0.000       0.746       1.822\n",
       "team[T.Aston Villa]           -0.1854      0.268     -0.692      0.489      -0.710       0.340\n",
       "team[T.Brentford]             -0.2215      0.268     -0.827      0.408      -0.747       0.304\n",
       "team[T.Brighton]              -0.4753      0.268     -1.774      0.076      -1.000       0.050\n",
       "team[T.Burnley]               -0.6180      0.268     -2.307      0.021      -1.143      -0.093\n",
       "team[T.Chelsea]                0.4759      0.268      1.776      0.076      -0.049       1.001\n",
       "team[T.Crystal Palace]        -0.1938      0.268     -0.724      0.469      -0.719       0.331\n",
       "team[T.Everton]               -0.3740      0.268     -1.398      0.162      -0.898       0.150\n",
       "team[T.Leeds]                 -0.3988      0.268     -1.489      0.137      -0.924       0.126\n",
       "team[T.Leicester]              0.0719      0.268      0.268      0.788      -0.453       0.597\n",
       "team[T.Liverpool]              0.9012      0.268      3.364      0.001       0.376       1.426\n",
       "team[T.Man City]               1.0445      0.268      3.899      0.000       0.519       1.570\n",
       "team[T.Man United]             0.0243      0.268      0.091      0.928      -0.501       0.549\n",
       "team[T.Newcastle]             -0.3728      0.268     -1.392      0.164      -0.898       0.152\n",
       "team[T.Norwich]               -0.8619      0.268     -3.217      0.001      -1.387      -0.337\n",
       "team[T.Southampton]           -0.3627      0.268     -1.354      0.176      -0.888       0.162\n",
       "team[T.Tottenham]              0.2130      0.268      0.795      0.427      -0.312       0.738\n",
       "team[T.Watford]               -0.6072      0.268     -2.266      0.023      -1.132      -0.082\n",
       "team[T.West Ham]               0.0638      0.268      0.238      0.812      -0.461       0.589\n",
       "team[T.Wolves]                -0.5539      0.268     -2.067      0.039      -1.079      -0.029\n",
       "opponent[T.Aston Villa]        0.1421      0.268      0.530      0.596      -0.383       0.667\n",
       "opponent[T.Brentford]          0.1765      0.268      0.659      0.510      -0.349       0.702\n",
       "opponent[T.Brighton]          -0.1220      0.268     -0.455      0.649      -0.647       0.403\n",
       "opponent[T.Burnley]            0.0747      0.268      0.279      0.780      -0.450       0.600\n",
       "opponent[T.Chelsea]           -0.3860      0.268     -1.441      0.150      -0.911       0.139\n",
       "opponent[T.Crystal Palace]    -0.0267      0.268     -0.100      0.920      -0.552       0.498\n",
       "opponent[T.Everton]            0.3740      0.268      1.398      0.162      -0.150       0.898\n",
       "opponent[T.Leeds]              0.8261      0.268      3.084      0.002       0.301       1.351\n",
       "opponent[T.Leicester]          0.3015      0.268      1.125      0.260      -0.224       0.827\n",
       "opponent[T.Liverpool]         -0.5507      0.268     -2.056      0.040      -1.076      -0.026\n",
       "opponent[T.Man City]          -0.5601      0.268     -2.091      0.037      -1.085      -0.035\n",
       "opponent[T.Man United]         0.2551      0.268      0.952      0.341      -0.270       0.780\n",
       "opponent[T.Newcastle]          0.3573      0.268      1.334      0.182      -0.168       0.882\n",
       "opponent[T.Norwich]            0.8341      0.268      3.114      0.002       0.309       1.359\n",
       "opponent[T.Southampton]        0.4306      0.268      1.607      0.108      -0.095       0.956\n",
       "opponent[T.Tottenham]         -0.1852      0.268     -0.691      0.489      -0.710       0.340\n",
       "opponent[T.Watford]            0.7526      0.268      2.809      0.005       0.228       1.278\n",
       "opponent[T.West Ham]           0.0334      0.268      0.125      0.901      -0.492       0.558\n",
       "opponent[T.Wolves]            -0.1790      0.268     -0.668      0.504      -0.704       0.346\n",
       "home                           0.2101      0.085      2.483      0.013       0.044       0.376\n",
       "==============================================================================================\n",
       "\"\"\""
      ]
     },
     "execution_count": 12,
     "metadata": {},
     "output_type": "execute_result"
    }
   ],
   "source": [
    "model = smf.glm(formula = \"goals ~ home + team + opponent\", data = goal_model_data,\n",
    "               familty = sm.families.Poisson()).fit()\n",
    "model.summary()"
   ]
  },
  {
   "cell_type": "markdown",
   "id": "8f6da5cf",
   "metadata": {},
   "source": [
    "Simularemos, a partir de este modelo, un partido entre Manchester City y Arsenal."
   ]
  },
  {
   "cell_type": "code",
   "execution_count": 13,
   "id": "e5b53351",
   "metadata": {},
   "outputs": [
    {
     "name": "stdout",
     "output_type": "stream",
     "text": [
      "Liverpool against Everton expect to score: 1    2.768952\n",
      "dtype: float64\n",
      "Everton against Liverpool expect to score: 1    0.358963\n",
      "dtype: float64\n"
     ]
    }
   ],
   "source": [
    "home_team='Liverpool'\n",
    "away_team='Everton'\n",
    "\n",
    "home_score = model.predict(pd.DataFrame(data={'team': home_team, 'opponent': away_team,\n",
    "                                       'home':1},index=[1]))\n",
    "away_score = model.predict(pd.DataFrame(data={'team': away_team, 'opponent': home_team,\n",
    "                                       'home':0},index=[1]))\n",
    "\n",
    "print(home_team + ' against ' + away_team + ' expect to score: ' + str(home_score))\n",
    "print(away_team + ' against ' + home_team + ' expect to score: ' + str(away_score))"
   ]
  },
  {
   "cell_type": "code",
   "execution_count": 22,
   "id": "3ced67bd",
   "metadata": {
    "scrolled": false
   },
   "outputs": [
    {
     "name": "stdout",
     "output_type": "stream",
     "text": [
      "Probabilidad Liverpool: 87.000%\n",
      "Probabilidad Empate: 13.000%\n",
      "Probabilidad Everton: 0.000%\n"
     ]
    }
   ],
   "source": [
    "local = 0\n",
    "empate = 0\n",
    "visitante = 0\n",
    "\n",
    "for i in range(100): # partidos\n",
    "    home_goals=np.random.poisson(home_score)\n",
    "    away_goals=np.random.poisson(away_score)\n",
    "    if home_goals>away_goals:\n",
    "        local+=1\n",
    "    elif home_goals==away_goals:\n",
    "        empate+=1\n",
    "    elif home_goals<away_goals:\n",
    "        visitante+=1\n",
    "\n",
    "print(\"Probabilidad {}: {:.3f}%\".format(home_team,local))\n",
    "print(\"Probabilidad {}: {:.3f}%\".format(\"Empate\",empate))\n",
    "print(\"Probabilidad {}: {:.3f}%\".format(away_team,visitante))"
   ]
  },
  {
   "cell_type": "code",
   "execution_count": 23,
   "id": "a60af7b6",
   "metadata": {},
   "outputs": [],
   "source": [
    "home_team = 'Liverpool'\n",
    "away_team = 'Everton'"
   ]
  },
  {
   "cell_type": "code",
   "execution_count": 24,
   "id": "713b7cae",
   "metadata": {},
   "outputs": [],
   "source": [
    "def simulate_match(foot_model, homeTeam, awayTeam, max_goals=10):\n",
    "    home_goals_avg = foot_model.predict(pd.DataFrame(data={'team': homeTeam,\n",
    "                                                           'opponent': awayTeam, 'home': 1},\n",
    "                                                     index=[1])).values[0]\n",
    "    away_goals_avg = foot_model.predict(pd.DataFrame(data={'team': awayTeam,\n",
    "                                                           'opponent': homeTeam, 'home': 0},\n",
    "                                                     index=[1])).values[0]\n",
    "    # qué posibilidad hay de cada equipo marcando cada gol entre 0 y max_goals\n",
    "    # Resultado: una matriz cuadrada i donde i = max_goals\n",
    "    team_pred = [[poisson.pmf(i, team_avg) for i in range(0, max_goals + 1)] for team_avg in\n",
    "                 [home_goals_avg, away_goals_avg]]\n",
    "    return (np.outer(np.array(team_pred[0]), np.array(team_pred[1])))\n",
    "\n",
    "#Fill in the matrix\n",
    "max_goals=5\n",
    "score_matrix=simulate_match(model, home_team, away_team,max_goals)"
   ]
  },
  {
   "cell_type": "markdown",
   "id": "c1038c93",
   "metadata": {},
   "source": [
    "https://numpy.org/doc/stable/reference/generated/numpy.outer.html"
   ]
  },
  {
   "cell_type": "code",
   "execution_count": 25,
   "id": "70b385b5",
   "metadata": {},
   "outputs": [
    {
     "name": "stdout",
     "output_type": "stream",
     "text": [
      "Probabilidad de cada equipo de marcar desde 0 hasta 5 goles\n"
     ]
    },
    {
     "data": {
      "text/plain": [
       "array([[4.38090580e-02, 1.57258375e-02, 2.82249808e-03, 3.37724267e-04,\n",
       "        3.03076417e-05, 2.17586531e-06],\n",
       "       [1.21305158e-01, 4.35440817e-02, 7.81536037e-03, 9.35142126e-04,\n",
       "        8.39203908e-05, 6.02486557e-06],\n",
       "       [1.67944052e-01, 6.02857258e-02, 1.08201770e-02, 1.29468161e-03,\n",
       "        1.16185747e-04, 8.34128037e-06],\n",
       "       [1.55009646e-01, 5.56427509e-02, 9.98684857e-03, 1.19497021e-03,\n",
       "        1.07237568e-04, 7.69886701e-06],\n",
       "       [1.07303549e-01, 3.85180200e-02, 6.91327490e-03, 8.27203646e-04,\n",
       "        7.42339066e-05, 5.32944740e-06],\n",
       "       [5.94236653e-02, 2.13309061e-02, 3.82850462e-03, 4.58097360e-04,\n",
       "        4.11100179e-05, 2.95139630e-06]])"
      ]
     },
     "execution_count": 25,
     "metadata": {},
     "output_type": "execute_result"
    }
   ],
   "source": [
    "print(\"Probabilidad de cada equipo de marcar desde 0 hasta {} goles\".format(max_goals))\n",
    "score_matrix"
   ]
  },
  {
   "cell_type": "code",
   "execution_count": 29,
   "id": "bc11efa1",
   "metadata": {},
   "outputs": [
    {
     "name": "stdout",
     "output_type": "stream",
     "text": [
      "Probabilidad Liverpool: 80.88%\n",
      "Probabilidad Empate: 9.94%\n",
      "Probabilidad Everton: 2.93%\n"
     ]
    }
   ],
   "source": [
    "local = np.sum(np.tril(score_matrix, -1)) # sumando la parte inferior de la diagonal obtendremos la prob victoria local\n",
    "empate = np.sum(np.diag(score_matrix))\n",
    "vis = np.sum(np.triu(score_matrix, 1))\n",
    "\n",
    "print('Probabilidad {}: {:.2%}'.format(home_team,local))\n",
    "print('Probabilidad {}: {:.2%}'.format(\"Empate\",empate))\n",
    "print('Probabilidad {}: {:.2%}'.format(away_team,vis))"
   ]
  },
  {
   "cell_type": "code",
   "execution_count": 30,
   "id": "38aaa8cb",
   "metadata": {},
   "outputs": [
    {
     "data": {
      "image/png": "[encoded data removed]",
      "text/plain": [
       "<Figure size 648x432 with 2 Axes>"
      ]
     },
     "metadata": {
      "needs_background": "light"
     },
     "output_type": "display_data"
    }
   ],
   "source": [
    "fig=plt.figure(figsize=(9,6))\n",
    "ax=fig.add_subplot(1,1,1)\n",
    "pos=ax.imshow(score_matrix, aspect='auto',cmap=plt.cm.Reds)\n",
    "fig.colorbar(pos, ax=ax)\n",
    "ax.set_title('Probability of outcome')\n",
    "plt.xlim((-0.5,5.5))\n",
    "plt.ylim((-0.5,5.5))\n",
    "plt.tight_layout()\n",
    "ax.set_xlabel('Goals scored by ' + away_team)\n",
    "ax.set_ylabel('Goals scored by ' + home_team)\n",
    "plt.show()"
   ]
  },
  {
   "cell_type": "markdown",
   "id": "09292cb3",
   "metadata": {},
   "source": [
    "Calcular, a partir de la matriz, la probabilidad de que haya >2.5 goles"
   ]
  },
  {
   "cell_type": "code",
   "execution_count": 31,
   "id": "4af8d014",
   "metadata": {},
   "outputs": [
    {
     "name": "stdout",
     "output_type": "stream",
     "text": [
      "Resultado más Probable: 2 - 0\n"
     ]
    }
   ],
   "source": [
    "print('Resultado más Probable: {} - {}'.format(np.argmax(score_matrix, axis=0)[0],\n",
    "                                                np.argmax(score_matrix, axis=1)[0]\n",
    "                                              ))"
   ]
  },
  {
   "cell_type": "code",
   "execution_count": 32,
   "id": "c2890b5a",
   "metadata": {},
   "outputs": [
    {
     "name": "stdout",
     "output_type": "stream",
     "text": [
      "Resultado más Improbable: 0 - 5\n"
     ]
    }
   ],
   "source": [
    "print('Resultado más Improbable: {} - {}'.format(np.argmin(score_matrix, axis=0)[0],\n",
    "                                                np.argmin(score_matrix, axis=1)[0]\n",
    "                                              ))"
   ]
  },
  {
   "cell_type": "code",
   "execution_count": 33,
   "id": "18972dbb",
   "metadata": {},
   "outputs": [
    {
     "name": "stdout",
     "output_type": "stream",
     "text": [
      "Liverpool - Everton\n",
      "Probabilidad <2.5 goles: 39.52%\n",
      "Probabilidad >2.5 goles: 60.48%\n"
     ]
    }
   ],
   "source": [
    "lim_goles = 3\n",
    "# Dos formas\n",
    "#1\n",
    "p = 0\n",
    "for i in range(score_matrix.shape[0]):\n",
    "    for j in range(score_matrix.shape[1]):\n",
    "        if i+j<3:\n",
    "            p+=score_matrix[i][j]\n",
    "#2\n",
    "p = np.sum([score_matrix[i][j] for i in range(score_matrix.shape[0]) for j in range(score_matrix.shape[1]) if i+j<lim_goles])\n",
    "\n",
    "\n",
    "print(\"{} - {}\".format(home_team,away_team))\n",
    "print('Probabilidad <2.5 goles: {:.2%}'.format(p))\n",
    "print('Probabilidad >2.5 goles: {:.2%}'.format(1-p))"
   ]
  }
 ],
 "metadata": {
  "kernelspec": {
   "display_name": "Python 3 (ipykernel)",
   "language": "python",
   "name": "python3"
  },
  "language_info": {
   "codemirror_mode": {
    "name": "ipython",
    "version": 3
   },
   "file_extension": ".py",
   "mimetype": "text/x-python",
   "name": "python",
   "nbconvert_exporter": "python",
   "pygments_lexer": "ipython3",
   "version": "3.8.5"
  }
 },
 "nbformat": 4,
 "nbformat_minor": 5
}
