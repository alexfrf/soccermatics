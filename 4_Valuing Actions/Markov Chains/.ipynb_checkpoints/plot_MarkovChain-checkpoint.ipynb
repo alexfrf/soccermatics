{
 "cells": [
  {
   "cell_type": "code",
   "execution_count": null,
   "metadata": {
    "collapsed": false
   },
   "outputs": [],
   "source": [
    "%matplotlib inline"
   ]
  },
  {
   "cell_type": "markdown",
   "metadata": {},
   "source": [
    "\n# Markov chains\n\nHere we look at how to formulate expected threat in terms of a Markov chain.\nFirst watch the video\n\n\n..  youtube:: 5ESij-MDKl4\n   :width: 640\n   :height: 349\n"
   ]
  },
  {
   "cell_type": "code",
   "execution_count": null,
   "metadata": {
    "collapsed": false
   },
   "outputs": [],
   "source": [
    "import numpy as np"
   ]
  },
  {
   "cell_type": "markdown",
   "metadata": {},
   "source": [
    "## Setting up the matrix\nWe first set up the pass matrix *A* and the goal vector *g*.\n\n"
   ]
  },
  {
   "cell_type": "code",
   "execution_count": null,
   "metadata": {
    "collapsed": false
   },
   "outputs": [],
   "source": [
    "#Pass matrix\nA = np.matrix([[0.25, 0.20, 0.1], [0.1, 0.25, 0.2],[0.1, 0.1, 0.25]])\n#Goal vector\ng = np.transpose(np.matrix([0.05, 0.15, 0.05]))"
   ]
  },
  {
   "cell_type": "markdown",
   "metadata": {},
   "source": [
    "## Linear algebra method\n\nHere we solve *(I-A)xT = g*\n\n"
   ]
  },
  {
   "cell_type": "code",
   "execution_count": null,
   "metadata": {
    "collapsed": false
   },
   "outputs": [],
   "source": [
    "xT1 = np.linalg.solve(np.identity(3) - A,g)\n\nprint('Expected Threat')\nprint('Central, Box, Wing')\nprint(np.transpose(xT1))"
   ]
  },
  {
   "cell_type": "markdown",
   "metadata": {},
   "source": [
    "## Iterative method\n\nHere we iterate xT' = A xT + g\nto update through each move of the ball\n\n"
   ]
  },
  {
   "cell_type": "code",
   "execution_count": null,
   "metadata": {
    "collapsed": false
   },
   "outputs": [],
   "source": [
    "xT2=np.zeros((3,1))            \nfor t in range(10):\n   #print(np.matmul(A,xT2) + g)\n   xT2 = np.matmul(A,xT2) + g\n\nprint('Expected Threat')\nprint('Central, Box, Wing')\nprint(np.transpose(xT2))"
   ]
  },
  {
   "cell_type": "markdown",
   "metadata": {},
   "source": [
    "## Simulation method\n\nHere we simulate *num_sim* possessions, starting from each of the three areas.\n\n"
   ]
  },
  {
   "cell_type": "code",
   "execution_count": null,
   "metadata": {
    "collapsed": false
   },
   "outputs": [],
   "source": [
    "num_sims=10\nxT3=np.zeros(3) \n\ndescription = {0: 'Central', 1: 'Wing', 2: 'Box' }\n\nfor i in range(3):\n    num_goals = 0\n\n    print('---------------')\n    print('Start from ' + description[i] )\n    print('---------------')\n\n    for n in range(num_sims):\n        \n        ballinplay=True\n        #Initial state is i\n        s = i\n        describe_possession=''\n        \n        while ballinplay:\n            r=np.random.rand()\n            \n            # Make commentary text\n            describe_possession = describe_possession + ' - ' + description[s]\n            \n            \n            #Cumulative sum of in play probabilities\n            c_sum=np.cumsum(A[s,:])\n            new_s = np.sum(r>c_sum)  \n            if new_s>2:\n                #Ball is either goal or out of play\n                ballinplay=False\n                if r < g[s] + c_sum[0,2]:\n                    #Its a goal!\n                    num_goals = num_goals + 1\n                    describe_possession = describe_possession + ' - Goal!'\n                else:\n                    describe_possession = describe_possession + ' - Out of play'\n            s = new_s  \n            \n        print(describe_possession)  \n            \n    xT3[i] = num_goals/num_sims\n\n\nprint('\\n\\n---------------')\nprint('Expected Threat')\nprint('Central, Box, Wing')\nprint(xT3)"
   ]
  },
  {
   "cell_type": "markdown",
   "metadata": {},
   "source": [
    "Here I work through the derivation of equations for *xT*\n\n<img src=\"file://../../../source/images/lesson4/DeriveMarkov1.png\">\n\nHere I outline how we write this in matrix form:\n\n<img src=\"file://../../../source/images/lesson4/DeriveMarkov2.png\">\n\n"
   ]
  }
 ],
 "metadata": {
  "kernelspec": {
   "display_name": "Python 3",
   "language": "python",
   "name": "python3"
  },
  "language_info": {
   "codemirror_mode": {
    "name": "ipython",
    "version": 3
   },
   "file_extension": ".py",
   "mimetype": "text/x-python",
   "name": "python",
   "nbconvert_exporter": "python",
   "pygments_lexer": "ipython3",
   "version": "3.10.6"
  }
 },
 "nbformat": 4,
 "nbformat_minor": 0
}
