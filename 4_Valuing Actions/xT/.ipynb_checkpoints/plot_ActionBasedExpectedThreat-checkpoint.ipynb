{
 "cells": [
  {
   "cell_type": "code",
   "execution_count": null,
   "metadata": {},
   "outputs": [],
   "source": [
    "%matplotlib inline"
   ]
  },
  {
   "cell_type": "markdown",
   "metadata": {},
   "source": [
    "\n",
    "# Calculating xT (action-based)\n",
    "Calculate action based Expected Threat once you have\n",
    "found possession chains.\n"
   ]
  },
  {
   "cell_type": "code",
   "execution_count": null,
   "metadata": {},
   "outputs": [],
   "source": [
    "import pandas as pd\n",
    "import json\n",
    "# plotting\n",
    "import os\n",
    "import pathlib\n",
    "import warnings \n",
    "from joblib import load\n",
    "from mplsoccer import Pitch\n",
    "from itertools import combinations_with_replacement\n",
    "from sklearn.linear_model import LinearRegression\n",
    "import matplotlib.pyplot as plt\n",
    "import numpy as np\n",
    "pd.options.mode.chained_assignment = None\n",
    "warnings.filterwarnings('ignore')"
   ]
  },
  {
   "cell_type": "markdown",
   "metadata": {},
   "source": [
    "## Opening the dataset\n",
    "\n",
    "First we open the data. It is the file created in the Possesion Chain segment. The files that we open are available here\n",
    "[here](https://github.com/soccermatics/Soccermatics/tree/main/course/lessons/possession_chain). There are prepared using the script\n",
    "from the [previous section](https://soccermatics.readthedocs.io/en/latest/gallery/lesson4/plot_PossesionChain.html).\n",
    "\n"
   ]
  },
  {
   "cell_type": "code",
   "execution_count": null,
   "metadata": {},
   "outputs": [],
   "source": [
    "df = pd.DataFrame()\n",
    "for i in range(11):\n",
    "    file_name = 'possession_chains_England' + str(i+1) + '.json'\n",
    "    path = os.path.join(str(pathlib.Path().resolve().parents[0]), 'possession_chain', file_name)\n",
    "    with open(path) as f:\n",
    "        data = json.load(f)\n",
    "    df = pd.concat([df, pd.DataFrame(data)])\n",
    "df = df.reset_index()"
   ]
  },
  {
   "cell_type": "markdown",
   "metadata": {},
   "source": [
    "## Preparing variables for models\n",
    "\n",
    "For our models we will use all non-linear combinations of the starting and ending\n",
    "x coordinate and *c* - distance from the middle of the pitch. We create combinations\n",
    "with replacement of these variables - to get their non-linear transfomations. As the next step,\n",
    "we multiply the columns in the combination and create a model with them. \n",
    "\n"
   ]
  },
  {
   "cell_type": "code",
   "execution_count": null,
   "metadata": {},
   "outputs": [],
   "source": [
    "#model variables\n",
    "var = [\"x0\", \"x1\", \"c0\", \"c1\"]\n",
    "\n",
    "#combinations\n",
    "inputs = []\n",
    "#one variable combinations\n",
    "inputs.extend(combinations_with_replacement(var, 1))\n",
    "#2 variable combinations\n",
    "inputs.extend(combinations_with_replacement(var, 2))\n",
    "#3 variable combinations \n",
    "inputs.extend(combinations_with_replacement(var, 3))\n",
    "\n",
    "#make new columns\n",
    "for i in inputs:\n",
    "    #columns length 1 already exist \n",
    "    if len(i) > 1:\n",
    "        #column name \n",
    "        column = ''\n",
    "        x = 1\n",
    "        for c in i:\n",
    "            #add column name to be x0x1c0 for example\n",
    "            column += c\n",
    "            #multiply values in column\n",
    "            x = x*df[c]\n",
    "        #create a new column in df\n",
    "        df[column] = x\n",
    "        #add column to model variables\n",
    "        var.append(column)\n",
    "#investigate 3 columns\n",
    "df[var[-3:]].head(3)"
   ]
  },
  {
   "cell_type": "markdown",
   "metadata": {},
   "source": [
    "## Calculating action-based Expected Threat values for passes\n",
    "\n",
    "To predict the outcome of a shot, we trained a model (XGB classifier) on Bundesliga dataset. In the code we use\n",
    "model saved in the file. It was trained using *xgboost* library version 1.6.2.\n",
    "Training steps are provided commented out. Using it we predict\n",
    "probability of a chain ending with a shot. Then, on chains that ended with a shot, we fit a linear regression \n",
    "to calculate the probability that a shot ended with a goal. Product of these 2 values is our action-based Expected Threat statistic.\n",
    "\n"
   ]
  },
  {
   "cell_type": "code",
   "execution_count": null,
   "metadata": {},
   "outputs": [],
   "source": [
    "### TRAINING, it's not perfect ML procedure, but results in AUC 0.2 higher than Logistic Regression ###\n",
    "#passes = df.loc[ df[\"eventName\"].isin([\"Pass\"])]\n",
    "#X = passes[var].values - note that this is different X, with data from BL\n",
    "#y = passes[\"shot_end\"].values\n",
    "#X_train, X_test, y_train, y_test = train_test_split(X, y, test_size = 0.1, random_state = 123, stratify = y)\n",
    "#xgb = XGBRegressor(n_estimators = 100, ccp_alpha=0, max_depth=4, min_samples_leaf=10,\n",
    "#                       random_state=123)\n",
    "#from sklearn.model_selection import cross_val_score\n",
    "#scores = cross_val_score(estimator = xgb, X = X_train, y = y_train, cv = 10, n_jobs = -1)\n",
    "#print(np.mean(scores), np.std(scores))\n",
    "#xgb.fit(X_train, y_train)\n",
    "#print(xgb.score(X_train, y_train))\n",
    "#y_pred = xgb.predict(X_test)\n",
    "#print(xgb.score(X_test, y_test))\n",
    "\n",
    "#predict if ended with shot\n",
    "passes = df.loc[df[\"eventName\"].isin([\"Pass\"])]\n",
    "X = passes[var].values\n",
    "y = passes[\"shot_end\"].values\n",
    "#path to saved model\n",
    "path_model = os.path.join(str(pathlib.Path().resolve().parents[0]), 'possession_chain', 'finalized_model.sav')\n",
    "model = load(path_model) \n",
    "#predict probability of shot ended\n",
    "y_pred_proba = model.predict_proba(X)[::,1]\n",
    "\n",
    "passes[\"shot_prob\"] = y_pred_proba\n",
    "#OLS\n",
    "shot_ended = passes.loc[passes[\"shot_end\"] == 1]\n",
    "X2 = shot_ended[var].values\n",
    "y2 = shot_ended[\"xG\"].values\n",
    "lr = LinearRegression()\n",
    "lr.fit(X2, y2)\n",
    "y_pred = lr.predict(X)\n",
    "passes[\"xG_pred\"] = y_pred\n",
    "#calculate xGchain\n",
    "passes[\"xT\"] = passes[\"xG_pred\"]*passes[\"shot_prob\"]\n",
    "\n",
    "passes[[\"xG_pred\", \"shot_prob\", \"xT\"]].head(5)"
   ]
  },
  {
   "cell_type": "markdown",
   "metadata": {},
   "source": [
    "## Making a plot of pass values\n",
    "\n",
    "Now we can make the plot of the pass. This is the same plot as we have seen in \n",
    "[previous section](https://soccermatics.readthedocs.io/en/latest/gallery/lesson4/plot_PossesionChain.html) but this time\n",
    "the value is assigned to passes and line width is proportional to its value.\n",
    "\n"
   ]
  },
  {
   "cell_type": "code",
   "execution_count": null,
   "metadata": {},
   "outputs": [],
   "source": [
    "chain = df.loc[df[\"possesion_chain\"] == 4]\n",
    "#get passes\n",
    "passes_in = passes.loc[df[\"possesion_chain\"] == 4]\n",
    "max_value = passes_in[\"xT\"].max()\n",
    "#get events different than pass\n",
    "not_pass = chain.loc[chain[\"eventName\"] != \"Pass\"].iloc[:-1]\n",
    "#shot is the last event of the chain (or should be)\n",
    "shot = chain.iloc[-1]\n",
    "#plot \n",
    "pitch = Pitch(line_color='black',pitch_type='custom', pitch_length=105, pitch_width=68, line_zorder = 2)\n",
    "fig, ax = pitch.grid(grid_height=0.9, title_height=0.06, axis=False,\n",
    "                     endnote_height=0.04, title_space=0, endnote_space=0)\n",
    "#add size adjusted arrows\n",
    "for i, row in passes_in.iterrows():\n",
    "    value = row[\"xT\"]\n",
    "    #adjust the line width so that the more passes, the wider the line\n",
    "    line_width = (value / max_value * 10)\n",
    "    #get angle\n",
    "    angle = np.arctan((row.y1-row.y0)/(row.x1-row.x0))*180/np.pi\n",
    "    #plot lines on the pitch\n",
    "    pitch.arrows(row.x0, row.y0, row.x1, row.y1,\n",
    "                        alpha=0.6, width=line_width, zorder=2, color=\"blue\", ax = ax[\"pitch\"])\n",
    "    #annotate text\n",
    "    ax[\"pitch\"].text((row.x0+row.x1-8)/2, (row.y0+row.y1-4)/2, str(value)[:5], fontweight = \"bold\", color = \"blue\", zorder = 4, fontsize = 20, rotation = int(angle))\n",
    "\n",
    "#shot\n",
    "pitch.arrows(shot.x0, shot.y0,\n",
    "            shot.x1, shot.y1, width=line_width, color = \"red\", ax=ax['pitch'], zorder =  3)\n",
    "#other passes like arrows\n",
    "pitch.lines(not_pass.x0, not_pass.y0, not_pass.x1, not_pass.y1, color = \"grey\", lw = 1.5, ls = 'dotted', ax=ax['pitch'])\n",
    "ax['title'].text(0.5, 0.5, 'Passes leading to a shot', ha='center', va='center', fontsize=30)\n",
    "plt.show()"
   ]
  },
  {
   "cell_type": "markdown",
   "metadata": {},
   "source": [
    "## Finding out players with highest action-based Expected Threat\n",
    "As the last step we want to find out which players who played more than 400 minutes\n",
    "scored the best in possesion-adjusted action-based Expected Threat per 90. We repeat steps that you already know \n",
    "from [Radar Plots](https://soccermatics.readthedocs.io/en/latest/gallery/lesson3/plot_RadarPlot.html).\n",
    "We group them by player, sum, assign merge it with players database to keep players name,\n",
    "adjust per possesion and per 90. Only the last step differs, since we stored *percentage_df*\n",
    "in a .json file that can be found [here](https://github.com/soccermatics/Soccermatics/tree/main/course/lessons/minutes_played).\n",
    "\n"
   ]
  },
  {
   "cell_type": "code",
   "execution_count": null,
   "metadata": {},
   "outputs": [],
   "source": [
    "summary = passes[[\"playerId\", \"xT\"]].groupby([\"playerId\"]).sum().reset_index()\n",
    "#add player name\n",
    "path = os.path.join(str(pathlib.Path().resolve().parents[0]),\"data\", 'Wyscout', 'players.json')\n",
    "player_df = pd.read_json(path, encoding='unicode-escape')\n",
    "player_df.rename(columns = {'wyId':'playerId'}, inplace=True)\n",
    "player_df[\"role\"] = player_df.apply(lambda x: x.role[\"name\"], axis = 1)\n",
    "to_merge = player_df[['playerId', 'shortName', 'role']]\n",
    "\n",
    "summary = summary.merge(to_merge, how = \"left\", on = [\"playerId\"])\n",
    "\n",
    "#get minutes\n",
    "path = os.path.join(str(pathlib.Path().resolve().parents[0]),\"minutes_played\", 'minutes_played_per_game_England.json')\n",
    "with open(path) as f:\n",
    "    minutes_per_game = json.load(f)\n",
    "#filtering over 400 per game\n",
    "minutes_per_game = pd.DataFrame(minutes_per_game)\n",
    "minutes = minutes_per_game.groupby([\"playerId\"]).minutesPlayed.sum().reset_index()\n",
    "summary = minutes.merge(summary, how = \"left\", on = [\"playerId\"])\n",
    "summary = summary.fillna(0)\n",
    "summary = summary.loc[summary[\"minutesPlayed\"] > 400]\n",
    "#calculating per 90\n",
    "summary[\"xT_p90\"] = summary[\"xT\"]*90/summary[\"minutesPlayed\"]\n",
    "\n",
    "#adjusting for possesion\n",
    "path = os.path.join(str(pathlib.Path().resolve().parents[0]),\"minutes_played\", 'player_possesion_England.json')\n",
    "with open(path) as f:\n",
    "    percentage_df = json.load(f)\n",
    "percentage_df = pd.DataFrame(percentage_df)\n",
    "#merge it\n",
    "summary = summary.merge(percentage_df, how = \"left\", on = [\"playerId\"])\n",
    "#adjust per possesion\n",
    "summary[\"xT_adjusted_per_90\"] = (summary[\"xT\"]/summary[\"possesion\"])*90/summary[\"minutesPlayed\"]\n",
    "summary[['shortName', 'xT_adjusted_per_90']].sort_values(by='xT_adjusted_per_90', ascending=False).head(5)"
   ]
  },
  {
   "cell_type": "markdown",
   "metadata": {},
   "source": [
    "## Challenge\n",
    "1. StatsBomb has recently released a dataset with Indian Superleague 2021/22 games. Calculate\n",
    "xGchain values for these player. Note that the possesion chains are already isolated. Which player stood out the most? \n",
    "\n"
   ]
  }
 ],
 "metadata": {
  "kernelspec": {
   "display_name": "Python 3 (ipykernel)",
   "language": "python",
   "name": "python3"
  },
  "language_info": {
   "codemirror_mode": {
    "name": "ipython",
    "version": 3
   },
   "file_extension": ".py",
   "mimetype": "text/x-python",
   "name": "python",
   "nbconvert_exporter": "python",
   "pygments_lexer": "ipython3",
   "version": "3.10.6"
  }
 },
 "nbformat": 4,
 "nbformat_minor": 1
}
