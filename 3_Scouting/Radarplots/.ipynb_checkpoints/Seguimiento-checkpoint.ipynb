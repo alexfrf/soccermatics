{
 "cells": [
  {
   "cell_type": "markdown",
   "id": "b9731894",
   "metadata": {
    "id": "b9731894"
   },
   "source": [
    "## Seguimiento - Radarplots"
   ]
  },
  {
   "cell_type": "markdown",
   "id": "d9f6f6f0",
   "metadata": {
    "id": "d9f6f6f0"
   },
   "source": [
    "Emplearemos datos de Wyscout para calcular una serie de métricas que, posteriormente, plotearemos en RadarPlots o PizzaCharts"
   ]
  },
  {
   "cell_type": "code",
   "execution_count": null,
   "id": "86afc829",
   "metadata": {
    "id": "86afc829"
   },
   "outputs": [],
   "source": [
    "import pandas as pd\n",
    "import numpy as np\n",
    "import json\n",
    "import matplotlib.pyplot as plt\n",
    "# statistical fitting of models\n",
    "import statsmodels.api as sm\n",
    "import statsmodels.formula.api as smf\n",
    "#opening data\n",
    "import os\n",
    "import pathlib\n",
    "import warnings\n",
    "#used for plots\n",
    "from scipy import stats\n",
    "from mplsoccer import PyPizza, FontManager\n",
    "pd.options.mode.chained_assignment = None\n",
    "warnings.filterwarnings('ignore')"
   ]
  },
  {
   "cell_type": "code",
   "execution_count": null,
   "id": "7982a164",
   "metadata": {
    "id": "7982a164",
    "outputId": "85a5e603-3fdc-4c03-a6e5-646947b4492d"
   },
   "outputs": [
    {
     "data": {
      "text/plain": [
       "643032"
      ]
     },
     "execution_count": 2,
     "metadata": {},
     "output_type": "execute_result"
    }
   ],
   "source": [
    "train = pd.DataFrame()\n",
    "file_name = 'events_England.json'\n",
    "\n",
    "path = os.path.join(str(pathlib.Path().resolve()),'data', 'WyScout','events', file_name)\n",
    "with open(path) as f:\n",
    "    data = json.load(f)\n",
    "train = pd.concat([train, pd.DataFrame(data)])\n",
    "# para evitar posibles errores, tomamos solo aquellas jugadas que están terminadas\n",
    "\n",
    "train = train[train.apply(lambda x: len(x.positions)==2, axis=1)]\n",
    "train.shape[0]"
   ]
  },
  {
   "cell_type": "markdown",
   "id": "47324a94",
   "metadata": {
    "id": "47324a94"
   },
   "source": [
    "**Construimos un modelo (uno para remates de cabeza y otro para el resto de disparos). Marcamos npxg = True para no incluir penaltis** - Posteriormente, lo empleamos para calcular el xg acumulado a lo largo de la temporada."
   ]
  },
  {
   "cell_type": "code",
   "execution_count": null,
   "id": "a7191942",
   "metadata": {
    "id": "a7191942"
   },
   "outputs": [],
   "source": [
    "def calculate_xG(df,npxG):\n",
    "    shots= df[df[\"eventName\"] == \"Shot\"].copy()\n",
    "    shots[\"Cx\"] = shots.positions.apply(lambda x: (100 - x[0]['x']) * 105/100)\n",
    "    shots[\"Y\"] = shots.positions.apply(lambda x: x[0]['y'] * 68/100)\n",
    "    shots[\"Cy\"] = shots.positions.apply(lambda x: abs(x[0]['y'] - 50) * 68/100)\n",
    "    shots[\"Distance\"] = np.sqrt(shots[\"Cx\"]**2 + shots[\"Cy\"]**2)\n",
    "    shots['Angle'] = shots[\"Angle\"] = np.where(np.arctan(7.32 * shots[\"Cx\"] / (shots[\"Cx\"]**2 + shots[\"Cy\"]**2 - (7.32/2)**2)) > 0, np.arctan(7.32 * shots[\"Cx\"] /(shots[\"Cx\"]**2 + shots[\"Cy\"]**2 - (7.32/2)**2)), np.arctan(7.32 * shots[\"Cx\"] /(shots[\"Cx\"]**2 + shots[\"Cy\"]**2 - (7.32/2)**2)) + np.pi)\n",
    "    shots[\"Goal\"] = shots.tags.apply(lambda x: 1 if {'id':101} in x else 0).astype(object)\n",
    "    headers = shots.loc[shots.apply (lambda x:{'id':403} in x.tags, axis = 1)]\n",
    "    non_headers = shots.drop(headers.index)\n",
    "    \n",
    "    headers_model = smf.glm(formula=\"Goal ~ Distance + Angle\" , data=headers, \n",
    "                               family=sm.families.Binomial()).fit()\n",
    "    nonheaders_model = smf.glm(formula=\"Goal ~ Distance + Angle\" , data=non_headers, \n",
    "                               family=sm.families.Binomial()).fit()\n",
    "    \n",
    "    b_head = headers_model.params\n",
    "    xG = 1/(1+np.exp(b_head[0]+b_head[1]*headers['Distance'] + b_head[2]*headers['Angle'])) \n",
    "    headers = headers.assign(xG = xG)\n",
    "    \n",
    "    b_nhead = nonheaders_model.params\n",
    "    xG = 1/(1+np.exp(b_nhead[0]+b_nhead[1]*non_headers['Distance'] + b_nhead[2]*non_headers['Angle'])) \n",
    "    non_headers = non_headers.assign(xG = xG)\n",
    "    \n",
    "    if npxG == False:\n",
    "        penalties = df.loc[df[\"subEventName\"] == \"Penalty\"]\n",
    "        penalties = penalties.assign(xG= 0.8)\n",
    "        all_shots_xg = pd.concat([non_headers[[\"playerId\", \"xG\"]], headers[[\"playerId\", \"xG\"]], penalties[[\"playerId\", \"xG\"]]])\n",
    "        xG_sum = all_shots_xg.groupby([\"playerId\"])[\"xG\"].sum().sort_values(ascending = False).reset_index()\n",
    "    else:\n",
    "        #concat, group and sum\n",
    "        all_shots_xg = pd.concat([non_headers[[\"playerId\", \"xG\"]], headers[[\"playerId\", \"xG\"]]]) \n",
    "        all_shots_xg.rename(columns = {\"xG\": \"npxG\"}, inplace = True)\n",
    "        xG_sum = all_shots_xg.groupby([\"playerId\"])[\"npxG\"].sum().sort_values(ascending = False).reset_index() \n",
    "        \n",
    "    return xG_sum\n",
    "\n"
   ]
  },
  {
   "cell_type": "code",
   "execution_count": null,
   "id": "0e4bbbb1",
   "metadata": {
    "id": "0e4bbbb1",
    "outputId": "7f2ffde1-ab33-4a0f-93cf-7f0f38298586"
   },
   "outputs": [
    {
     "data": {
      "text/html": [
       "<div>\n",
       "<style scoped>\n",
       "    .dataframe tbody tr th:only-of-type {\n",
       "        vertical-align: middle;\n",
       "    }\n",
       "\n",
       "    .dataframe tbody tr th {\n",
       "        vertical-align: top;\n",
       "    }\n",
       "\n",
       "    .dataframe thead th {\n",
       "        text-align: right;\n",
       "    }\n",
       "</style>\n",
       "<table border=\"1\" class=\"dataframe\">\n",
       "  <thead>\n",
       "    <tr style=\"text-align: right;\">\n",
       "      <th></th>\n",
       "      <th>playerId</th>\n",
       "      <th>npxG</th>\n",
       "    </tr>\n",
       "  </thead>\n",
       "  <tbody>\n",
       "    <tr>\n",
       "      <th>0</th>\n",
       "      <td>8717</td>\n",
       "      <td>22.014180</td>\n",
       "    </tr>\n",
       "    <tr>\n",
       "      <th>1</th>\n",
       "      <td>120353</td>\n",
       "      <td>17.215819</td>\n",
       "    </tr>\n",
       "    <tr>\n",
       "      <th>2</th>\n",
       "      <td>11066</td>\n",
       "      <td>14.144484</td>\n",
       "    </tr>\n",
       "    <tr>\n",
       "      <th>3</th>\n",
       "      <td>7905</td>\n",
       "      <td>13.364998</td>\n",
       "    </tr>\n",
       "    <tr>\n",
       "      <th>4</th>\n",
       "      <td>8325</td>\n",
       "      <td>12.783379</td>\n",
       "    </tr>\n",
       "  </tbody>\n",
       "</table>\n",
       "</div>"
      ],
      "text/plain": [
       "   playerId       npxG\n",
       "0      8717  22.014180\n",
       "1    120353  17.215819\n",
       "2     11066  14.144484\n",
       "3      7905  13.364998\n",
       "4      8325  12.783379"
      ]
     },
     "execution_count": 4,
     "metadata": {},
     "output_type": "execute_result"
    }
   ],
   "source": [
    "npxg = calculate_xG(train, npxG =True)\n",
    "npxg.head()"
   ]
  },
  {
   "cell_type": "markdown",
   "id": "5bb6b4ef",
   "metadata": {
    "id": "5bb6b4ef"
   },
   "source": [
    "### Cálculo de Metricas"
   ]
  },
  {
   "cell_type": "markdown",
   "id": "4df0d30c",
   "metadata": {
    "id": "4df0d30c"
   },
   "source": [
    "A continuación calcularemos dos métricas que se emplearán para la construcción de radares -> pases en tercio final y recepciones de pases en tercio final"
   ]
  },
  {
   "cell_type": "code",
   "execution_count": null,
   "id": "e2ee86ae",
   "metadata": {
    "id": "e2ee86ae",
    "outputId": "6c32e9f0-6d64-4a7f-e31e-7d61f20c08f2"
   },
   "outputs": [
    {
     "data": {
      "text/html": [
       "<div>\n",
       "<style scoped>\n",
       "    .dataframe tbody tr th:only-of-type {\n",
       "        vertical-align: middle;\n",
       "    }\n",
       "\n",
       "    .dataframe tbody tr th {\n",
       "        vertical-align: top;\n",
       "    }\n",
       "\n",
       "    .dataframe thead th {\n",
       "        text-align: right;\n",
       "    }\n",
       "</style>\n",
       "<table border=\"1\" class=\"dataframe\">\n",
       "  <thead>\n",
       "    <tr style=\"text-align: right;\">\n",
       "      <th></th>\n",
       "      <th>playerId</th>\n",
       "      <th>final_third_passes</th>\n",
       "      <th>final_third_receptions</th>\n",
       "    </tr>\n",
       "  </thead>\n",
       "  <tbody>\n",
       "    <tr>\n",
       "      <th>0</th>\n",
       "      <td>36.0</td>\n",
       "      <td>186.0</td>\n",
       "      <td>83.0</td>\n",
       "    </tr>\n",
       "    <tr>\n",
       "      <th>1</th>\n",
       "      <td>38.0</td>\n",
       "      <td>62.0</td>\n",
       "      <td>66.0</td>\n",
       "    </tr>\n",
       "    <tr>\n",
       "      <th>2</th>\n",
       "      <td>48.0</td>\n",
       "      <td>392.0</td>\n",
       "      <td>188.0</td>\n",
       "    </tr>\n",
       "  </tbody>\n",
       "</table>\n",
       "</div>"
      ],
      "text/plain": [
       "   playerId  final_third_passes  final_third_receptions\n",
       "0      36.0               186.0                    83.0\n",
       "1      38.0                62.0                    66.0\n",
       "2      48.0               392.0                   188.0"
      ]
     },
     "execution_count": 5,
     "metadata": {},
     "output_type": "execute_result"
    }
   ],
   "source": [
    "def FinalThird(df):\n",
    "    \"\"\"\n",
    "    Parameters\n",
    "    ----------\n",
    "    df : dataframe\n",
    "        dataframe with Wyscout event data.\n",
    "\n",
    "    Returns\n",
    "    -------\n",
    "    final_third: dataframe\n",
    "        dataframe with number of passes ending in final third and receptions in that area for a player. \n",
    "\n",
    "    \"\"\"\n",
    "    df = df.copy()\n",
    "    #need player who had received the ball\n",
    "    df[\"nextPlayerId\"] = df[\"playerId\"].shift(-1)\n",
    "    passes = df.loc[train[\"eventName\"] == \"Pass\"].copy()\n",
    "    #changing coordinates\n",
    "    passes[\"x\"] = passes.positions.apply(lambda cell: (cell[0]['x']) * 105/100)\n",
    "    passes[\"y\"] = passes.positions.apply(lambda cell: (100 - cell[0]['y']) * 68/100)\n",
    "    passes[\"end_x\"] = passes.positions.apply(lambda cell: (cell[1]['x']) * 105/100)\n",
    "    passes[\"end_y\"] = passes.positions.apply(lambda cell: (100 - cell[1]['y']) * 68/100)\n",
    "    \n",
    "    #get accurate passes\n",
    "    accurate_passes = passes.loc[passes.apply (lambda x:{'id':1801} in x.tags, axis = 1)]\n",
    "    #get passes into final third\n",
    "    final_third_passes = accurate_passes.loc[accurate_passes[\"end_x\"] > 2*105/3]\n",
    "    \n",
    "    #passes into final third by player\n",
    "    ftp_player = final_third_passes.groupby([\"playerId\"]).end_x.count().reset_index()\n",
    "    ftp_player.rename(columns = {'end_x':'final_third_passes'}, inplace=True)\n",
    "    \n",
    "    #receptions of accurate passes in the final third\n",
    "    rtp_player = final_third_passes.groupby([\"nextPlayerId\"]).end_x.count().reset_index()\n",
    "    rtp_player.rename(columns = {'end_x':'final_third_receptions', \"nextPlayerId\": \"playerId\"}, inplace=True)\n",
    "    \n",
    "    #outer join not to lose values\n",
    "    final_third = ftp_player.merge(rtp_player, how = \"outer\", on = [\"playerId\"])\n",
    "    return final_third\n",
    "\n",
    "final_third = FinalThird(train)\n",
    "#investigate structure\n",
    "final_third.head(3)"
   ]
  },
  {
   "cell_type": "markdown",
   "id": "0565e3c6",
   "metadata": {
    "id": "0565e3c6"
   },
   "source": [
    "La siguiente función nos ayuda a calcular duelos y duelos aéreos ganados"
   ]
  },
  {
   "cell_type": "code",
   "execution_count": null,
   "id": "69e28d4f",
   "metadata": {
    "id": "69e28d4f",
    "outputId": "8252f754-d854-48ae-b795-dfdf960f9722"
   },
   "outputs": [
    {
     "data": {
      "text/html": [
       "<div>\n",
       "<style scoped>\n",
       "    .dataframe tbody tr th:only-of-type {\n",
       "        vertical-align: middle;\n",
       "    }\n",
       "\n",
       "    .dataframe tbody tr th {\n",
       "        vertical-align: top;\n",
       "    }\n",
       "\n",
       "    .dataframe thead th {\n",
       "        text-align: right;\n",
       "    }\n",
       "</style>\n",
       "<table border=\"1\" class=\"dataframe\">\n",
       "  <thead>\n",
       "    <tr style=\"text-align: right;\">\n",
       "      <th></th>\n",
       "      <th>playerId</th>\n",
       "      <th>ground_duels_won</th>\n",
       "      <th>air_duels_won</th>\n",
       "    </tr>\n",
       "  </thead>\n",
       "  <tbody>\n",
       "    <tr>\n",
       "      <th>0</th>\n",
       "      <td>0</td>\n",
       "      <td>2244.0</td>\n",
       "      <td>1061.0</td>\n",
       "    </tr>\n",
       "    <tr>\n",
       "      <th>1</th>\n",
       "      <td>36</td>\n",
       "      <td>13.0</td>\n",
       "      <td>23.0</td>\n",
       "    </tr>\n",
       "    <tr>\n",
       "      <th>2</th>\n",
       "      <td>38</td>\n",
       "      <td>7.0</td>\n",
       "      <td>11.0</td>\n",
       "    </tr>\n",
       "    <tr>\n",
       "      <th>3</th>\n",
       "      <td>48</td>\n",
       "      <td>50.0</td>\n",
       "      <td>137.0</td>\n",
       "    </tr>\n",
       "    <tr>\n",
       "      <th>4</th>\n",
       "      <td>54</td>\n",
       "      <td>102.0</td>\n",
       "      <td>15.0</td>\n",
       "    </tr>\n",
       "  </tbody>\n",
       "</table>\n",
       "</div>"
      ],
      "text/plain": [
       "   playerId  ground_duels_won  air_duels_won\n",
       "0         0            2244.0         1061.0\n",
       "1        36              13.0           23.0\n",
       "2        38               7.0           11.0\n",
       "3        48              50.0          137.0\n",
       "4        54             102.0           15.0"
      ]
     },
     "execution_count": 6,
     "metadata": {},
     "output_type": "execute_result"
    }
   ],
   "source": [
    "def wonDuels(df):\n",
    "    air_duels = df[df[\"subEventName\"] == \"Air duel\"]\n",
    "    won_air_duels = air_duels[air_duels.apply (lambda x:{'id':703} in x.tags, axis = 1)]\n",
    "    \n",
    "    wad_player =  won_air_duels.groupby([\"playerId\"]).eventId.count().reset_index()\n",
    "    wad_player.rename(columns = {'eventId':'air_duels_won'}, inplace=True)\n",
    "    \n",
    "    ground_duels = df[df[\"subEventName\"].str.contains(\"Ground attacking duel\")]\n",
    "    won_ground_duels = ground_duels[ground_duels.apply (lambda x:{'id':703} in x.tags, axis = 1)]\n",
    "    \n",
    "    wgd_player =  won_ground_duels.groupby([\"playerId\"]).eventId.count().reset_index()\n",
    "    wgd_player.rename(columns = {'eventId':'ground_duels_won'}, inplace=True)\n",
    "    duels_won = wgd_player.merge(wad_player, how = \"outer\", on = [\"playerId\"])\n",
    "    \n",
    "    return duels_won\n",
    "\n",
    "duels = wonDuels(train)\n",
    "duels.head()"
   ]
  },
  {
   "cell_type": "code",
   "execution_count": null,
   "id": "a1f18396",
   "metadata": {
    "id": "a1f18396",
    "outputId": "a11795f4-7d45-4659-d9a4-f9fc4e53c1db"
   },
   "outputs": [
    {
     "data": {
      "text/html": [
       "<div>\n",
       "<style scoped>\n",
       "    .dataframe tbody tr th:only-of-type {\n",
       "        vertical-align: middle;\n",
       "    }\n",
       "\n",
       "    .dataframe tbody tr th {\n",
       "        vertical-align: top;\n",
       "    }\n",
       "\n",
       "    .dataframe thead th {\n",
       "        text-align: right;\n",
       "    }\n",
       "</style>\n",
       "<table border=\"1\" class=\"dataframe\">\n",
       "  <thead>\n",
       "    <tr style=\"text-align: right;\">\n",
       "      <th></th>\n",
       "      <th>playerId</th>\n",
       "      <th>smart_passes</th>\n",
       "    </tr>\n",
       "  </thead>\n",
       "  <tbody>\n",
       "    <tr>\n",
       "      <th>0</th>\n",
       "      <td>36</td>\n",
       "      <td>1</td>\n",
       "    </tr>\n",
       "    <tr>\n",
       "      <th>1</th>\n",
       "      <td>38</td>\n",
       "      <td>1</td>\n",
       "    </tr>\n",
       "    <tr>\n",
       "      <th>2</th>\n",
       "      <td>48</td>\n",
       "      <td>3</td>\n",
       "    </tr>\n",
       "  </tbody>\n",
       "</table>\n",
       "</div>"
      ],
      "text/plain": [
       "   playerId  smart_passes\n",
       "0        36             1\n",
       "1        38             1\n",
       "2        48             3"
      ]
     },
     "execution_count": 7,
     "metadata": {},
     "output_type": "execute_result"
    }
   ],
   "source": [
    "def smartPasses(df):\n",
    "    \"\"\"\n",
    "    Parameters\n",
    "    ----------\n",
    "    df : dataframe\n",
    "        dataframe with Wyscout event data.\n",
    "\n",
    "    Returns\n",
    "    -------\n",
    "    sp_player: dataframe\n",
    "        dataframe with number of smart passes.\n",
    "\n",
    "    \"\"\"\n",
    "    #get smart passes\n",
    "    smart_passes = df.loc[df[\"subEventName\"] == \"Smart pass\"]\n",
    "    #find accurate\n",
    "    smart_passes_made = smart_passes.loc[smart_passes.apply (lambda x:{'id':1801} in x.tags, axis = 1)]\n",
    "    \n",
    "    #sum by player\n",
    "    sp_player =  smart_passes_made.groupby([\"playerId\"]).eventId.count().reset_index()\n",
    "    sp_player.rename(columns = {'eventId':'smart_passes'}, inplace=True)\n",
    "    \n",
    "    return sp_player\n",
    "\n",
    "smart_passes = smartPasses(train)\n",
    "#investigate structure\n",
    "smart_passes.head(3)"
   ]
  },
  {
   "cell_type": "code",
   "execution_count": null,
   "id": "7f272408",
   "metadata": {
    "id": "7f272408",
    "outputId": "e31a9f9c-e5ca-4072-c64a-80521f01d77d"
   },
   "outputs": [
    {
     "data": {
      "text/html": [
       "<div>\n",
       "<style scoped>\n",
       "    .dataframe tbody tr th:only-of-type {\n",
       "        vertical-align: middle;\n",
       "    }\n",
       "\n",
       "    .dataframe tbody tr th {\n",
       "        vertical-align: top;\n",
       "    }\n",
       "\n",
       "    .dataframe thead th {\n",
       "        text-align: right;\n",
       "    }\n",
       "</style>\n",
       "<table border=\"1\" class=\"dataframe\">\n",
       "  <thead>\n",
       "    <tr style=\"text-align: right;\">\n",
       "      <th></th>\n",
       "      <th>playerId</th>\n",
       "      <th>goals</th>\n",
       "      <th>assists</th>\n",
       "      <th>key_passes</th>\n",
       "    </tr>\n",
       "  </thead>\n",
       "  <tbody>\n",
       "    <tr>\n",
       "      <th>0</th>\n",
       "      <td>54</td>\n",
       "      <td>10.0</td>\n",
       "      <td>5.0</td>\n",
       "      <td>25.0</td>\n",
       "    </tr>\n",
       "    <tr>\n",
       "      <th>1</th>\n",
       "      <td>74</td>\n",
       "      <td>1.0</td>\n",
       "      <td>NaN</td>\n",
       "      <td>1.0</td>\n",
       "    </tr>\n",
       "    <tr>\n",
       "      <th>2</th>\n",
       "      <td>93</td>\n",
       "      <td>2.0</td>\n",
       "      <td>5.0</td>\n",
       "      <td>14.0</td>\n",
       "    </tr>\n",
       "  </tbody>\n",
       "</table>\n",
       "</div>"
      ],
      "text/plain": [
       "   playerId  goals  assists  key_passes\n",
       "0        54   10.0      5.0        25.0\n",
       "1        74    1.0      NaN         1.0\n",
       "2        93    2.0      5.0        14.0"
      ]
     },
     "execution_count": 8,
     "metadata": {},
     "output_type": "execute_result"
    }
   ],
   "source": [
    "def GoalsAssistsKeyPasses(df):\n",
    "    \"\"\"\n",
    "    Parameters\n",
    "    ----------\n",
    "    df : dataframe\n",
    "        dataframe with Wyscout event data.\n",
    "\n",
    "    Returns\n",
    "    -------\n",
    "    data: dataframe\n",
    "        dataframe with number of (non-penalty) goals, assists and key passes.\n",
    "\n",
    "    \"\"\"\n",
    "    #get goals\n",
    "    shots = df.loc[df[\"subEventName\"] == \"Shot\"]\n",
    "    goals = shots.loc[shots.apply (lambda x:{'id':101} in x.tags, axis = 1)]\n",
    "    #get assists\n",
    "    passes = df.loc[df[\"eventName\"] == \"Pass\"]\n",
    "    assists = passes.loc[passes.apply (lambda x:{'id':301} in x.tags, axis = 1)]\n",
    "    #get key passes\n",
    "    key_passes = passes.loc[passes.apply (lambda x:{'id':302} in x.tags, axis = 1)]\n",
    "    \n",
    "    #goals by player\n",
    "    g_player =  goals.groupby([\"playerId\"]).eventId.count().reset_index()\n",
    "    g_player.rename(columns = {'eventId':'goals'}, inplace=True)\n",
    "    \n",
    "    #assists by player\n",
    "    a_player =  assists.groupby([\"playerId\"]).eventId.count().reset_index()\n",
    "    a_player.rename(columns = {'eventId':'assists'}, inplace=True)\n",
    "    \n",
    "    #key passes by player\n",
    "    kp_player =  key_passes.groupby([\"playerId\"]).eventId.count().reset_index()\n",
    "    kp_player.rename(columns = {'eventId':'key_passes'}, inplace=True)\n",
    "    \n",
    "    data = g_player.merge(a_player, how = \"outer\", on = [\"playerId\"]).merge(kp_player, how = \"outer\", on = [\"playerId\"])\n",
    "    return data\n",
    "\n",
    "gakp = GoalsAssistsKeyPasses(train)\n",
    "#investigate structure \n",
    "gakp.head(3)"
   ]
  },
  {
   "cell_type": "markdown",
   "id": "87e1ceff",
   "metadata": {
    "id": "87e1ceff"
   },
   "source": [
    "### Normalización"
   ]
  },
  {
   "cell_type": "markdown",
   "id": "2927d150",
   "metadata": {
    "id": "2927d150"
   },
   "source": [
    "El primer ejercicio de normalización que haremos será transformar toda estadística en per90min. Para ello, necesitamos obtener información sobre los minutos jugados."
   ]
  },
  {
   "cell_type": "code",
   "execution_count": null,
   "id": "2ea822bb",
   "metadata": {
    "id": "2ea822bb",
    "outputId": "430ced11-14af-45db-e977-1350e32505ff"
   },
   "outputs": [
    {
     "data": {
      "text/html": [
       "<div>\n",
       "<style scoped>\n",
       "    .dataframe tbody tr th:only-of-type {\n",
       "        vertical-align: middle;\n",
       "    }\n",
       "\n",
       "    .dataframe tbody tr th {\n",
       "        vertical-align: top;\n",
       "    }\n",
       "\n",
       "    .dataframe thead th {\n",
       "        text-align: right;\n",
       "    }\n",
       "</style>\n",
       "<table border=\"1\" class=\"dataframe\">\n",
       "  <thead>\n",
       "    <tr style=\"text-align: right;\">\n",
       "      <th></th>\n",
       "      <th>playerId</th>\n",
       "      <th>minutesPlayed</th>\n",
       "    </tr>\n",
       "  </thead>\n",
       "  <tbody>\n",
       "    <tr>\n",
       "      <th>0</th>\n",
       "      <td>36</td>\n",
       "      <td>1238</td>\n",
       "    </tr>\n",
       "    <tr>\n",
       "      <th>1</th>\n",
       "      <td>38</td>\n",
       "      <td>382</td>\n",
       "    </tr>\n",
       "    <tr>\n",
       "      <th>2</th>\n",
       "      <td>48</td>\n",
       "      <td>3343</td>\n",
       "    </tr>\n",
       "    <tr>\n",
       "      <th>3</th>\n",
       "      <td>54</td>\n",
       "      <td>3348</td>\n",
       "    </tr>\n",
       "    <tr>\n",
       "      <th>4</th>\n",
       "      <td>56</td>\n",
       "      <td>266</td>\n",
       "    </tr>\n",
       "  </tbody>\n",
       "</table>\n",
       "</div>"
      ],
      "text/plain": [
       "   playerId  minutesPlayed\n",
       "0        36           1238\n",
       "1        38            382\n",
       "2        48           3343\n",
       "3        54           3348\n",
       "4        56            266"
      ]
     },
     "execution_count": 9,
     "metadata": {},
     "output_type": "execute_result"
    }
   ],
   "source": [
    "path = os.path.join(str(pathlib.Path().resolve()),\"data\",\"wyscout\",\"minutes_played\", 'minutes_played_per_game_England.json')\n",
    "with open(path) as f:\n",
    "    minutes_per_game = json.load(f)\n",
    "minutes_per_game = pd.DataFrame(minutes_per_game)\n",
    "minutes = minutes_per_game.groupby([\"playerId\"]).minutesPlayed.sum().reset_index()\n",
    "minutes.head()"
   ]
  },
  {
   "cell_type": "markdown",
   "id": "27a4d9a9",
   "metadata": {
    "id": "27a4d9a9"
   },
   "source": [
    "### Preparación y Filtrado"
   ]
  },
  {
   "cell_type": "markdown",
   "id": "abbf431b",
   "metadata": {
    "id": "abbf431b"
   },
   "source": [
    "Es momento de crear la tabla base que utilizaremos para plotear. Filtraremos por minutos disputados"
   ]
  },
  {
   "cell_type": "code",
   "execution_count": null,
   "id": "fbaf8253",
   "metadata": {
    "id": "fbaf8253",
    "outputId": "6467551c-9fca-4761-ed6a-1082c2e1b0e7"
   },
   "outputs": [
    {
     "data": {
      "text/html": [
       "<div>\n",
       "<style scoped>\n",
       "    .dataframe tbody tr th:only-of-type {\n",
       "        vertical-align: middle;\n",
       "    }\n",
       "\n",
       "    .dataframe tbody tr th {\n",
       "        vertical-align: top;\n",
       "    }\n",
       "\n",
       "    .dataframe thead th {\n",
       "        text-align: right;\n",
       "    }\n",
       "</style>\n",
       "<table border=\"1\" class=\"dataframe\">\n",
       "  <thead>\n",
       "    <tr style=\"text-align: right;\">\n",
       "      <th></th>\n",
       "      <th>playerId</th>\n",
       "      <th>minutesPlayed</th>\n",
       "      <th>npxG</th>\n",
       "      <th>final_third_passes</th>\n",
       "      <th>final_third_receptions</th>\n",
       "      <th>ground_duels_won</th>\n",
       "      <th>air_duels_won</th>\n",
       "      <th>smart_passes</th>\n",
       "      <th>goals</th>\n",
       "      <th>assists</th>\n",
       "      <th>key_passes</th>\n",
       "    </tr>\n",
       "  </thead>\n",
       "  <tbody>\n",
       "    <tr>\n",
       "      <th>0</th>\n",
       "      <td>36</td>\n",
       "      <td>1238</td>\n",
       "      <td>0.604683</td>\n",
       "      <td>186.0</td>\n",
       "      <td>83.0</td>\n",
       "      <td>13.0</td>\n",
       "      <td>23.0</td>\n",
       "      <td>1.0</td>\n",
       "      <td>0.0</td>\n",
       "      <td>0.0</td>\n",
       "      <td>2.0</td>\n",
       "    </tr>\n",
       "    <tr>\n",
       "      <th>1612</th>\n",
       "      <td>48</td>\n",
       "      <td>3343</td>\n",
       "      <td>1.236777</td>\n",
       "      <td>392.0</td>\n",
       "      <td>188.0</td>\n",
       "      <td>50.0</td>\n",
       "      <td>137.0</td>\n",
       "      <td>3.0</td>\n",
       "      <td>0.0</td>\n",
       "      <td>0.0</td>\n",
       "      <td>3.0</td>\n",
       "    </tr>\n",
       "    <tr>\n",
       "      <th>5005</th>\n",
       "      <td>54</td>\n",
       "      <td>3348</td>\n",
       "      <td>6.350951</td>\n",
       "      <td>818.0</td>\n",
       "      <td>800.0</td>\n",
       "      <td>102.0</td>\n",
       "      <td>15.0</td>\n",
       "      <td>42.0</td>\n",
       "      <td>10.0</td>\n",
       "      <td>5.0</td>\n",
       "      <td>25.0</td>\n",
       "    </tr>\n",
       "    <tr>\n",
       "      <th>8575</th>\n",
       "      <td>74</td>\n",
       "      <td>1514</td>\n",
       "      <td>0.472400</td>\n",
       "      <td>115.0</td>\n",
       "      <td>41.0</td>\n",
       "      <td>14.0</td>\n",
       "      <td>48.0</td>\n",
       "      <td>4.0</td>\n",
       "      <td>1.0</td>\n",
       "      <td>0.0</td>\n",
       "      <td>1.0</td>\n",
       "    </tr>\n",
       "    <tr>\n",
       "      <th>10105</th>\n",
       "      <td>93</td>\n",
       "      <td>2942</td>\n",
       "      <td>3.449038</td>\n",
       "      <td>265.0</td>\n",
       "      <td>365.0</td>\n",
       "      <td>141.0</td>\n",
       "      <td>42.0</td>\n",
       "      <td>7.0</td>\n",
       "      <td>2.0</td>\n",
       "      <td>5.0</td>\n",
       "      <td>14.0</td>\n",
       "    </tr>\n",
       "  </tbody>\n",
       "</table>\n",
       "</div>"
      ],
      "text/plain": [
       "       playerId  minutesPlayed      npxG  final_third_passes  \\\n",
       "0            36           1238  0.604683               186.0   \n",
       "1612         48           3343  1.236777               392.0   \n",
       "5005         54           3348  6.350951               818.0   \n",
       "8575         74           1514  0.472400               115.0   \n",
       "10105        93           2942  3.449038               265.0   \n",
       "\n",
       "       final_third_receptions  ground_duels_won  air_duels_won  smart_passes  \\\n",
       "0                        83.0              13.0           23.0           1.0   \n",
       "1612                    188.0              50.0          137.0           3.0   \n",
       "5005                    800.0             102.0           15.0          42.0   \n",
       "8575                     41.0              14.0           48.0           4.0   \n",
       "10105                   365.0             141.0           42.0           7.0   \n",
       "\n",
       "       goals  assists  key_passes  \n",
       "0        0.0      0.0         2.0  \n",
       "1612     0.0      0.0         3.0  \n",
       "5005    10.0      5.0        25.0  \n",
       "8575     1.0      0.0         1.0  \n",
       "10105    2.0      5.0        14.0  "
      ]
     },
     "execution_count": 10,
     "metadata": {},
     "output_type": "execute_result"
    }
   ],
   "source": [
    "players = train['playerId'].unique()\n",
    "df= train[['playerId']]\n",
    "\n",
    "df = df.merge(npxg, how = \"left\", on = [\"playerId\"]).merge(final_third, how = \"left\", on = [\"playerId\"]).merge(duels, how = \"left\", on = [\"playerId\"]).merge(smart_passes, how = \"left\", on = [\"playerId\"]).merge(gakp, how = \"left\", on = [\"playerId\"])\n",
    "df = minutes.merge(df,how='left',on=['playerId'])\n",
    "df = df.fillna(0)\n",
    "df = df[df['minutesPlayed']>=400]\n",
    "df = df.drop_duplicates(subset='playerId')\n",
    "df.head()"
   ]
  },
  {
   "cell_type": "code",
   "execution_count": null,
   "id": "8bba412e",
   "metadata": {
    "id": "8bba412e"
   },
   "outputs": [],
   "source": [
    "filename = \"players.json\"\n",
    "path = os.path.join(str(pathlib.Path().resolve()),\"data\", 'Wyscout', 'players.json')\n",
    "players = pd.read_json(path,encoding='unicode-escape')\n",
    "player_df = pd.DataFrame(players)\n",
    "player_df = player_df[player_df.apply(lambda x: x.role['name'] == 'Forward', axis =1)]\n",
    "player_df.rename(columns = {'wyId':'playerId'}, inplace=True)\n",
    "df = df.merge(player_df[['playerId', 'shortName']], how = \"inner\", on = [\"playerId\"])\n",
    "df.head()"
   ]
  },
  {
   "cell_type": "markdown",
   "id": "2e07b566",
   "metadata": {
    "id": "2e07b566"
   },
   "source": [
    "### Ajustando el Dato"
   ]
  },
  {
   "cell_type": "code",
   "execution_count": null,
   "id": "20163466",
   "metadata": {
    "id": "20163466",
    "outputId": "3261ebef-0916-46dc-92ef-7dedcb033bf8"
   },
   "outputs": [
    {
     "data": {
      "text/html": [
       "<div>\n",
       "<style scoped>\n",
       "    .dataframe tbody tr th:only-of-type {\n",
       "        vertical-align: middle;\n",
       "    }\n",
       "\n",
       "    .dataframe tbody tr th {\n",
       "        vertical-align: top;\n",
       "    }\n",
       "\n",
       "    .dataframe thead th {\n",
       "        text-align: right;\n",
       "    }\n",
       "</style>\n",
       "<table border=\"1\" class=\"dataframe\">\n",
       "  <thead>\n",
       "    <tr style=\"text-align: right;\">\n",
       "      <th></th>\n",
       "      <th>shortName</th>\n",
       "      <th>npxG_90</th>\n",
       "      <th>final_third_passes_90</th>\n",
       "      <th>final_third_receptions_90</th>\n",
       "      <th>ground_duels_won_90</th>\n",
       "      <th>air_duels_won_90</th>\n",
       "      <th>smart_passes_90</th>\n",
       "      <th>goals_90</th>\n",
       "      <th>assists_90</th>\n",
       "      <th>key_passes_90</th>\n",
       "    </tr>\n",
       "  </thead>\n",
       "  <tbody>\n",
       "    <tr>\n",
       "      <th>0</th>\n",
       "      <td>W. Bony</td>\n",
       "      <td>0.211227</td>\n",
       "      <td>4.642857</td>\n",
       "      <td>8.214286</td>\n",
       "      <td>4.404762</td>\n",
       "      <td>5.714286</td>\n",
       "      <td>0.476190</td>\n",
       "      <td>0.238095</td>\n",
       "      <td>0.000000</td>\n",
       "      <td>0.119048</td>\n",
       "    </tr>\n",
       "    <tr>\n",
       "      <th>1</th>\n",
       "      <td>Álvaro Morata</td>\n",
       "      <td>0.436915</td>\n",
       "      <td>8.357443</td>\n",
       "      <td>14.279048</td>\n",
       "      <td>7.139524</td>\n",
       "      <td>2.015866</td>\n",
       "      <td>0.377975</td>\n",
       "      <td>0.461969</td>\n",
       "      <td>0.167989</td>\n",
       "      <td>0.251983</td>\n",
       "    </tr>\n",
       "    <tr>\n",
       "      <th>2</th>\n",
       "      <td>Jesé Rodríguez</td>\n",
       "      <td>0.131110</td>\n",
       "      <td>6.262136</td>\n",
       "      <td>11.796117</td>\n",
       "      <td>4.805825</td>\n",
       "      <td>0.000000</td>\n",
       "      <td>0.436893</td>\n",
       "      <td>0.145631</td>\n",
       "      <td>0.145631</td>\n",
       "      <td>0.436893</td>\n",
       "    </tr>\n",
       "    <tr>\n",
       "      <th>3</th>\n",
       "      <td>Joselu</td>\n",
       "      <td>0.310256</td>\n",
       "      <td>6.743662</td>\n",
       "      <td>8.873239</td>\n",
       "      <td>2.535211</td>\n",
       "      <td>6.794366</td>\n",
       "      <td>0.152113</td>\n",
       "      <td>0.202817</td>\n",
       "      <td>0.050704</td>\n",
       "      <td>0.202817</td>\n",
       "    </tr>\n",
       "    <tr>\n",
       "      <th>4</th>\n",
       "      <td>Deulofeu</td>\n",
       "      <td>0.145231</td>\n",
       "      <td>10.000000</td>\n",
       "      <td>14.081633</td>\n",
       "      <td>6.326531</td>\n",
       "      <td>0.000000</td>\n",
       "      <td>0.816327</td>\n",
       "      <td>0.204082</td>\n",
       "      <td>0.000000</td>\n",
       "      <td>0.204082</td>\n",
       "    </tr>\n",
       "  </tbody>\n",
       "</table>\n",
       "</div>"
      ],
      "text/plain": [
       "        shortName   npxG_90  final_third_passes_90  final_third_receptions_90  \\\n",
       "0         W. Bony  0.211227               4.642857                   8.214286   \n",
       "1   Álvaro Morata  0.436915               8.357443                  14.279048   \n",
       "2  Jesé Rodríguez  0.131110               6.262136                  11.796117   \n",
       "3          Joselu  0.310256               6.743662                   8.873239   \n",
       "4        Deulofeu  0.145231              10.000000                  14.081633   \n",
       "\n",
       "   ground_duels_won_90  air_duels_won_90  smart_passes_90  goals_90  \\\n",
       "0             4.404762          5.714286         0.476190  0.238095   \n",
       "1             7.139524          2.015866         0.377975  0.461969   \n",
       "2             4.805825          0.000000         0.436893  0.145631   \n",
       "3             2.535211          6.794366         0.152113  0.202817   \n",
       "4             6.326531          0.000000         0.816327  0.204082   \n",
       "\n",
       "   assists_90  key_passes_90  \n",
       "0    0.000000       0.119048  \n",
       "1    0.167989       0.251983  \n",
       "2    0.145631       0.436893  \n",
       "3    0.050704       0.202817  \n",
       "4    0.000000       0.204082  "
      ]
     },
     "execution_count": 13,
     "metadata": {},
     "output_type": "execute_result"
    }
   ],
   "source": [
    "df_90 = pd.DataFrame()\n",
    "df_90[\"shortName\"] = df[\"shortName\"]\n",
    "for i in df.columns[2:]:\n",
    "    if i!=\"shortName\":\n",
    "        df_90[i + \"_90\"] = df.apply(lambda x: x[i]*90/x[\"minutesPlayed\"], axis = 1)\n",
    "df_90.head()"
   ]
  },
  {
   "cell_type": "markdown",
   "id": "262b3078",
   "metadata": {
    "id": "262b3078"
   },
   "source": [
    "### Estableciendo los valores - Mohamed Salah"
   ]
  },
  {
   "cell_type": "markdown",
   "id": "cf1bf35f",
   "metadata": {
    "id": "cf1bf35f"
   },
   "source": [
    "Debemos filtrar el dataframe por el jugador que queremos mostrar y, posteriormente, tomar tan solo aquellas variables que hemos normalizado.\n",
    "\n",
    "Tras ello, ponemos esas variables en una lista y la iteramos para calcular en qué percentil se encuentra cada valor para el caso de Salah."
   ]
  },
  {
   "cell_type": "code",
   "execution_count": null,
   "id": "36a2596f",
   "metadata": {
    "id": "36a2596f",
    "outputId": "682367e6-ce4d-46c9-fc43-f757fdbc1e22"
   },
   "outputs": [
    {
     "data": {
      "text/plain": [
       "[94, 100, 90, 67, 89, 86, 90, 69, 13]"
      ]
     },
     "execution_count": 14,
     "metadata": {},
     "output_type": "execute_result"
    }
   ],
   "source": [
    "#player to investigate - Mohammed Salah\n",
    "#only his statistics\n",
    "salah = df_90[df_90[\"shortName\"] == \"Mohamed Salah\"]\n",
    "#columns similar together\n",
    "salah = salah[['npxG_90', \"goals_90\", \"assists_90\", \"key_passes_90\", \"smart_passes_90\", \"final_third_passes_90\", \"final_third_receptions_90\", \"ground_duels_won_90\", \"air_duels_won_90\"]]\n",
    "#take only necessary columns - exclude playerId\n",
    "per_90_columns = salah.columns[:]\n",
    "#values to mark on the plot\n",
    "values = [round(salah[column].iloc[0],2) for column in per_90_columns]\n",
    "#percentiles\n",
    "percentiles = [int(stats.percentileofscore(df_90[column], salah[column].iloc[0])) for column in per_90_columns]\n",
    "percentiles"
   ]
  },
  {
   "cell_type": "markdown",
   "id": "246522e7",
   "metadata": {
    "id": "246522e7"
   },
   "source": [
    "## Radar Chart"
   ]
  },
  {
   "cell_type": "code",
   "execution_count": null,
   "id": "689f3ad9",
   "metadata": {
    "id": "689f3ad9",
    "outputId": "52502296-66e9-4520-adfb-ff84fab572d3"
   },
   "outputs": [
    {
     "data": {
      "text/plain": [
       "Index(['npxG_90', 'goals_90', 'assists_90', 'key_passes_90', 'smart_passes_90',\n",
       "       'final_third_passes_90', 'final_third_receptions_90',\n",
       "       'ground_duels_won_90', 'air_duels_won_90'],\n",
       "      dtype='object')"
      ]
     },
     "execution_count": 15,
     "metadata": {},
     "output_type": "execute_result"
    }
   ],
   "source": [
    "salah.columns"
   ]
  },
  {
   "cell_type": "markdown",
   "id": "995a7c14",
   "metadata": {
    "id": "995a7c14"
   },
   "source": [
    "Código -> https://mplsoccer.readthedocs.io/en/latest/gallery/pizza_plots/plot_pizza_basic.html"
   ]
  },
  {
   "cell_type": "code",
   "execution_count": null,
   "id": "bedf47e1",
   "metadata": {
    "id": "bedf47e1",
    "outputId": "8b815148-ae23-46c8-9ba4-7fcfec9398cd",
    "scrolled": false
   },
   "outputs": [
    {
     "data": {
      "image/png": "[encoded data removed]",
      "text/plain": [
       "<Figure size 720x720 with 1 Axes>"
      ]
     },
     "metadata": {},
     "output_type": "display_data"
    }
   ],
   "source": [
    "#list of names on plots\n",
    "names = [\"non-penalty Expected Goals\", \"non-penalty Goals\", \"Assists\", \"Key Passes\", \"Smart Passes\", \"Passes Ending in Final Third\", \"Passes Received in Final Third\", \"Offensive Ground Duels Won\", \"Air Duels Won\"]\n",
    "slice_colors = [\"blue\"] * 2 + [\"green\"] * 5 + [\"red\"] * 2\n",
    "text_colors = [\"white\"]*9\n",
    "font_normal = FontManager((\"https://github.com/google/fonts/blob/main/apache/roboto/\"\n",
    "                           \"Roboto%5Bwdth,wght%5D.ttf?raw=true\"))\n",
    "font_bold = FontManager((\"https://github.com/google/fonts/blob/main/apache/robotoslab/\"\n",
    "                         \"RobotoSlab%5Bwght%5D.ttf?raw=true\"))\n",
    "\n",
    "\n",
    "#PIZZA PLOT\n",
    "baker = PyPizza(\n",
    "    params=names,   \n",
    "    min_range = None,\n",
    "    max_range = None,               # list of parameters\n",
    "    straight_line_color=\"#000000\",  # color for straight lines\n",
    "    straight_line_lw=1,             # linewidth for straight lines\n",
    "    last_circle_lw=1,               # linewidth of last circle\n",
    "    other_circle_lw=1,              # linewidth for other circles\n",
    "    other_circle_ls=\"-.\"            # linestyle for other circles\n",
    ")\n",
    "#making pizza for our data\n",
    "fig, ax = baker.make_pizza(\n",
    "    percentiles,              # list of values\n",
    "    figsize=(10, 10),      # adjust figsize according to your need\n",
    "    param_location=110,\n",
    "    slice_colors=slice_colors,\n",
    "    value_colors = text_colors,\n",
    "    value_bck_colors=slice_colors, # where the parameters will be added\n",
    "    kwargs_slices=dict(\n",
    "        facecolor=\"cornflowerblue\", edgecolor=\"#000000\",\n",
    "        zorder=2, linewidth=1\n",
    "    ),                   # values to be used when plotting slices\n",
    "    kwargs_params=dict(\n",
    "        color=\"#000000\", fontsize=12,\n",
    "        fontproperties=font_normal.prop, va=\"center\"\n",
    "    ),                   # values to be used when adding parameter\n",
    "    kwargs_values=dict(\n",
    "        color=\"#000000\", fontsize=12,\n",
    "        fontproperties=font_normal.prop, zorder=3,\n",
    "        bbox=dict(\n",
    "            edgecolor=\"#000000\", facecolor=\"cornflowerblue\",\n",
    "            boxstyle=\"round,pad=0.2\", lw=1\n",
    "        )\n",
    "    )                    # values to be used when adding parameter-values\n",
    ")\n",
    "\n",
    "#putting text\n",
    "texts = baker.get_value_texts()\n",
    "for i, text in enumerate(texts):\n",
    "    text.set_text(str(values[i]))\n",
    "# add title\n",
    "fig.text(\n",
    "    0.515, 0.97, \"Mo Salah - Liverpool FC\\n Percentile Rank vs. Forwards\", size=18,\n",
    "    ha=\"center\", fontproperties=font_bold.prop, color=\"#000000\"\n",
    ")\n",
    "\n",
    "# add subtitle\n",
    "fig.text(\n",
    "    0.515, 0.942,\n",
    "    \"Premier League | Season 2017-18\",\n",
    "    size=15,\n",
    "    ha=\"center\", fontproperties=font_bold.prop, color=\"#000000\"\n",
    ")\n",
    "plt.show()"
   ]
  },
  {
   "cell_type": "markdown",
   "id": "7b051f41",
   "metadata": {
    "id": "7b051f41"
   },
   "source": [
    "El siguiente paso sería poder ajustar a posesión las métricas analizadas. Sin embargo, para los datos de WyScout, tenemos que calcularla para cada partido, en el tiempo en el que cada jugador ha estado en el encuentro."
   ]
  },
  {
   "cell_type": "markdown",
   "id": "baf06ea6",
   "metadata": {
    "id": "baf06ea6"
   },
   "source": [
    "### Calculando la posesión por cada partido"
   ]
  },
  {
   "cell_type": "code",
   "execution_count": null,
   "id": "7867c546",
   "metadata": {
    "id": "7867c546",
    "outputId": "582411f7-2588-461d-bf69-5744870b1a71"
   },
   "outputs": [
    {
     "data": {
      "text/html": [
       "<div>\n",
       "<style scoped>\n",
       "    .dataframe tbody tr th:only-of-type {\n",
       "        vertical-align: middle;\n",
       "    }\n",
       "\n",
       "    .dataframe tbody tr th {\n",
       "        vertical-align: top;\n",
       "    }\n",
       "\n",
       "    .dataframe thead th {\n",
       "        text-align: right;\n",
       "    }\n",
       "</style>\n",
       "<table border=\"1\" class=\"dataframe\">\n",
       "  <thead>\n",
       "    <tr style=\"text-align: right;\">\n",
       "      <th></th>\n",
       "      <th>playerId</th>\n",
       "      <th>minutesPlayed</th>\n",
       "      <th>npxG</th>\n",
       "      <th>final_third_passes</th>\n",
       "      <th>final_third_receptions</th>\n",
       "      <th>ground_duels_won</th>\n",
       "      <th>air_duels_won</th>\n",
       "      <th>smart_passes</th>\n",
       "      <th>goals</th>\n",
       "      <th>assists</th>\n",
       "      <th>key_passes</th>\n",
       "      <th>shortName</th>\n",
       "      <th>possesion</th>\n",
       "    </tr>\n",
       "  </thead>\n",
       "  <tbody>\n",
       "    <tr>\n",
       "      <th>0</th>\n",
       "      <td>471</td>\n",
       "      <td>756</td>\n",
       "      <td>1.774309</td>\n",
       "      <td>39.0</td>\n",
       "      <td>69.0</td>\n",
       "      <td>37.0</td>\n",
       "      <td>48.0</td>\n",
       "      <td>4.0</td>\n",
       "      <td>2.0</td>\n",
       "      <td>0.0</td>\n",
       "      <td>1.0</td>\n",
       "      <td>W. Bony</td>\n",
       "      <td>0.461731</td>\n",
       "    </tr>\n",
       "    <tr>\n",
       "      <th>1</th>\n",
       "      <td>3324</td>\n",
       "      <td>2143</td>\n",
       "      <td>10.403442</td>\n",
       "      <td>199.0</td>\n",
       "      <td>340.0</td>\n",
       "      <td>170.0</td>\n",
       "      <td>48.0</td>\n",
       "      <td>9.0</td>\n",
       "      <td>11.0</td>\n",
       "      <td>4.0</td>\n",
       "      <td>6.0</td>\n",
       "      <td>Álvaro Morata</td>\n",
       "      <td>0.560137</td>\n",
       "    </tr>\n",
       "    <tr>\n",
       "      <th>2</th>\n",
       "      <td>3326</td>\n",
       "      <td>618</td>\n",
       "      <td>0.900291</td>\n",
       "      <td>43.0</td>\n",
       "      <td>81.0</td>\n",
       "      <td>33.0</td>\n",
       "      <td>0.0</td>\n",
       "      <td>3.0</td>\n",
       "      <td>1.0</td>\n",
       "      <td>1.0</td>\n",
       "      <td>3.0</td>\n",
       "      <td>Jesé Rodríguez</td>\n",
       "      <td>0.406015</td>\n",
       "    </tr>\n",
       "    <tr>\n",
       "      <th>3</th>\n",
       "      <td>3327</td>\n",
       "      <td>1775</td>\n",
       "      <td>6.118932</td>\n",
       "      <td>133.0</td>\n",
       "      <td>175.0</td>\n",
       "      <td>50.0</td>\n",
       "      <td>134.0</td>\n",
       "      <td>3.0</td>\n",
       "      <td>4.0</td>\n",
       "      <td>1.0</td>\n",
       "      <td>4.0</td>\n",
       "      <td>Joselu</td>\n",
       "      <td>0.419726</td>\n",
       "    </tr>\n",
       "    <tr>\n",
       "      <th>4</th>\n",
       "      <td>3348</td>\n",
       "      <td>441</td>\n",
       "      <td>0.711633</td>\n",
       "      <td>49.0</td>\n",
       "      <td>69.0</td>\n",
       "      <td>31.0</td>\n",
       "      <td>0.0</td>\n",
       "      <td>4.0</td>\n",
       "      <td>1.0</td>\n",
       "      <td>0.0</td>\n",
       "      <td>1.0</td>\n",
       "      <td>Deulofeu</td>\n",
       "      <td>0.483754</td>\n",
       "    </tr>\n",
       "  </tbody>\n",
       "</table>\n",
       "</div>"
      ],
      "text/plain": [
       "   playerId  minutesPlayed       npxG  final_third_passes  \\\n",
       "0       471            756   1.774309                39.0   \n",
       "1      3324           2143  10.403442               199.0   \n",
       "2      3326            618   0.900291                43.0   \n",
       "3      3327           1775   6.118932               133.0   \n",
       "4      3348            441   0.711633                49.0   \n",
       "\n",
       "   final_third_receptions  ground_duels_won  air_duels_won  smart_passes  \\\n",
       "0                    69.0              37.0           48.0           4.0   \n",
       "1                   340.0             170.0           48.0           9.0   \n",
       "2                    81.0              33.0            0.0           3.0   \n",
       "3                   175.0              50.0          134.0           3.0   \n",
       "4                    69.0              31.0            0.0           4.0   \n",
       "\n",
       "   goals  assists  key_passes       shortName  possesion  \n",
       "0    2.0      0.0         1.0         W. Bony   0.461731  \n",
       "1   11.0      4.0         6.0   Álvaro Morata   0.560137  \n",
       "2    1.0      1.0         3.0  Jesé Rodríguez   0.406015  \n",
       "3    4.0      1.0         4.0          Joselu   0.419726  \n",
       "4    1.0      0.0         1.0        Deulofeu   0.483754  "
      ]
     },
     "execution_count": 23,
     "metadata": {},
     "output_type": "execute_result"
    }
   ],
   "source": [
    "pos_dict = {}\n",
    "#for every row in the dataframe\n",
    "for i, j in minutes_per_game.iterrows():\n",
    "    #take player id, team id and match id, minute in and minute out\n",
    "    player_id, team_id, match_id = j[\"playerId\"], j[\"teamId\"], j[\"matchId\"]\n",
    "    #create a key in dictionary if player encounterd first time\n",
    "    if not str(player_id) in pos_dict.keys():\n",
    "        pos_dict[str(player_id)] = {'team_passes': 0, 'all_passes' : 0}\n",
    "    min_in = j[\"player_in_min\"]*60\n",
    "    min_out = j[\"player_out_min\"]*60\n",
    "    \n",
    "    #get the dataframe of events from the game\n",
    "    match_df = train.loc[train[\"matchId\"] == match_id].copy()\n",
    "    #add to 2H the highest value of 1H\n",
    "    match_df.loc[match_df[\"matchPeriod\"] == \"2H\", 'eventSec'] = match_df.loc[match_df[\"matchPeriod\"] == \"2H\", 'eventSec'] + match_df.loc[match_df[\"matchPeriod\"] == \"1H\"][\"eventSec\"].iloc[-1]\n",
    "    #take all events from this game and this period\n",
    "    player_in_match_df = match_df.loc[match_df[\"eventSec\"] > min_in].loc[match_df[\"eventSec\"] <= min_out]\n",
    "    #take all passes and won duels as described\n",
    "    all_passes = player_in_match_df.loc[player_in_match_df[\"eventName\"].isin([\"Pass\", \"Duel\"])]\n",
    "    #adjusting for no passes in this period (Tuanzebe)\n",
    "    if len(all_passes) > 0:\n",
    "        #removing lost air duels\n",
    "        no_contact = all_passes.loc[all_passes[\"subEventName\"].isin([\"Air duel\", \"Ground defending duel\",\"Ground loose ball duel\"])].loc[all_passes.apply(lambda x:{'id':701} in x.tags, axis = 1)]\n",
    "        all_passes = all_passes.drop(no_contact.index)\n",
    "    #take team passes \n",
    "    team_passes = all_passes.loc[all_passes[\"teamId\"] == team_id]\n",
    "    #append it {player id: {team passes: sum, all passes : sum}}\n",
    "    pos_dict[str(player_id)][\"team_passes\"] += len(team_passes)\n",
    "    pos_dict[str(player_id)][\"all_passes\"] += len(all_passes)\n",
    "\n",
    "#calculate possesion for each player\n",
    "percentage_dict = {key: value[\"team_passes\"]/value[\"all_passes\"] if value[\"all_passes\"] > 0 else 0 for key, value in pos_dict.items()}\n",
    "#create a dataframe\n",
    "percentage_df = pd.DataFrame(percentage_dict.items(), columns = [\"playerId\", \"possesion\"])\n",
    "percentage_df[\"playerId\"] = percentage_df[\"playerId\"].astype(int)\n",
    "#merge it\n",
    "df = df.merge(percentage_df, how = \"left\", on = [\"playerId\"])\n",
    "df.head()"
   ]
  },
  {
   "cell_type": "markdown",
   "id": "23bf62a8",
   "metadata": {
    "id": "23bf62a8"
   },
   "source": [
    "### Ajustando métricas por posesión"
   ]
  },
  {
   "cell_type": "code",
   "execution_count": null,
   "id": "cc975a76",
   "metadata": {
    "id": "cc975a76",
    "outputId": "af24b24a-4864-4433-9261-859062354179"
   },
   "outputs": [
    {
     "data": {
      "text/html": [
       "<div>\n",
       "<style scoped>\n",
       "    .dataframe tbody tr th:only-of-type {\n",
       "        vertical-align: middle;\n",
       "    }\n",
       "\n",
       "    .dataframe tbody tr th {\n",
       "        vertical-align: top;\n",
       "    }\n",
       "\n",
       "    .dataframe thead th {\n",
       "        text-align: right;\n",
       "    }\n",
       "</style>\n",
       "<table border=\"1\" class=\"dataframe\">\n",
       "  <thead>\n",
       "    <tr style=\"text-align: right;\">\n",
       "      <th></th>\n",
       "      <th>shortName</th>\n",
       "      <th>npxG_PAdj</th>\n",
       "      <th>final_third_passes_PAdj</th>\n",
       "      <th>final_third_receptions_PAdj</th>\n",
       "      <th>ground_duels_won_PAdj</th>\n",
       "      <th>air_duels_won_PAdj</th>\n",
       "      <th>smart_passes_PAdj</th>\n",
       "      <th>goals_PAdj</th>\n",
       "      <th>assists_PAdj</th>\n",
       "      <th>key_passes_PAdj</th>\n",
       "    </tr>\n",
       "  </thead>\n",
       "  <tbody>\n",
       "    <tr>\n",
       "      <th>0</th>\n",
       "      <td>W. Bony</td>\n",
       "      <td>0.457468</td>\n",
       "      <td>10.055333</td>\n",
       "      <td>17.790205</td>\n",
       "      <td>9.539675</td>\n",
       "      <td>12.375795</td>\n",
       "      <td>1.031316</td>\n",
       "      <td>0.515658</td>\n",
       "      <td>0.000000</td>\n",
       "      <td>0.257829</td>\n",
       "    </tr>\n",
       "    <tr>\n",
       "      <th>1</th>\n",
       "      <td>Álvaro Morata</td>\n",
       "      <td>0.780015</td>\n",
       "      <td>14.920356</td>\n",
       "      <td>25.492065</td>\n",
       "      <td>12.746032</td>\n",
       "      <td>3.598880</td>\n",
       "      <td>0.674790</td>\n",
       "      <td>0.824743</td>\n",
       "      <td>0.299907</td>\n",
       "      <td>0.449860</td>\n",
       "    </tr>\n",
       "    <tr>\n",
       "      <th>2</th>\n",
       "      <td>Jesé Rodríguez</td>\n",
       "      <td>0.322920</td>\n",
       "      <td>15.423409</td>\n",
       "      <td>29.053398</td>\n",
       "      <td>11.836570</td>\n",
       "      <td>0.000000</td>\n",
       "      <td>1.076052</td>\n",
       "      <td>0.358684</td>\n",
       "      <td>0.358684</td>\n",
       "      <td>1.076052</td>\n",
       "    </tr>\n",
       "    <tr>\n",
       "      <th>3</th>\n",
       "      <td>Joselu</td>\n",
       "      <td>0.739186</td>\n",
       "      <td>16.066810</td>\n",
       "      <td>21.140539</td>\n",
       "      <td>6.040154</td>\n",
       "      <td>16.187613</td>\n",
       "      <td>0.362409</td>\n",
       "      <td>0.483212</td>\n",
       "      <td>0.120803</td>\n",
       "      <td>0.483212</td>\n",
       "    </tr>\n",
       "    <tr>\n",
       "      <th>4</th>\n",
       "      <td>Deulofeu</td>\n",
       "      <td>0.300217</td>\n",
       "      <td>20.671673</td>\n",
       "      <td>29.109090</td>\n",
       "      <td>13.077997</td>\n",
       "      <td>0.000000</td>\n",
       "      <td>1.687484</td>\n",
       "      <td>0.421871</td>\n",
       "      <td>0.000000</td>\n",
       "      <td>0.421871</td>\n",
       "    </tr>\n",
       "  </tbody>\n",
       "</table>\n",
       "</div>"
      ],
      "text/plain": [
       "        shortName  npxG_PAdj  final_third_passes_PAdj  \\\n",
       "0         W. Bony   0.457468                10.055333   \n",
       "1   Álvaro Morata   0.780015                14.920356   \n",
       "2  Jesé Rodríguez   0.322920                15.423409   \n",
       "3          Joselu   0.739186                16.066810   \n",
       "4        Deulofeu   0.300217                20.671673   \n",
       "\n",
       "   final_third_receptions_PAdj  ground_duels_won_PAdj  air_duels_won_PAdj  \\\n",
       "0                    17.790205               9.539675           12.375795   \n",
       "1                    25.492065              12.746032            3.598880   \n",
       "2                    29.053398              11.836570            0.000000   \n",
       "3                    21.140539               6.040154           16.187613   \n",
       "4                    29.109090              13.077997            0.000000   \n",
       "\n",
       "   smart_passes_PAdj  goals_PAdj  assists_PAdj  key_passes_PAdj  \n",
       "0           1.031316    0.515658      0.000000         0.257829  \n",
       "1           0.674790    0.824743      0.299907         0.449860  \n",
       "2           1.076052    0.358684      0.358684         1.076052  \n",
       "3           0.362409    0.483212      0.120803         0.483212  \n",
       "4           1.687484    0.421871      0.000000         0.421871  "
      ]
     },
     "execution_count": 26,
     "metadata": {},
     "output_type": "execute_result"
    }
   ],
   "source": [
    "df_pos = pd.DataFrame()\n",
    "df_pos[\"shortName\"] = df[\"shortName\"]\n",
    "cols = []\n",
    "for i in df.columns[2:-1]:\n",
    "    if i!=\"shortName\":\n",
    "        cols.append(i + \"_PAdj\")\n",
    "        df_pos[i + \"_PAdj\"] = df.apply(lambda x: (x[i]/x[\"possesion\"]) * 90/x['minutesPlayed'], axis = 1)\n",
    "df_pos.head()"
   ]
  },
  {
   "cell_type": "code",
   "execution_count": null,
   "id": "eb8cea93",
   "metadata": {
    "id": "eb8cea93",
    "outputId": "c8c43d4e-a134-4b89-b88e-0d71cc00404d"
   },
   "outputs": [
    {
     "data": {
      "text/plain": [
       "['npxG_PAdj',\n",
       " 'final_third_passes_PAdj',\n",
       " 'final_third_receptions_PAdj',\n",
       " 'ground_duels_won_PAdj',\n",
       " 'air_duels_won_PAdj',\n",
       " 'smart_passes_PAdj',\n",
       " 'goals_PAdj',\n",
       " 'assists_PAdj',\n",
       " 'key_passes_PAdj']"
      ]
     },
     "execution_count": 31,
     "metadata": {},
     "output_type": "execute_result"
    }
   ],
   "source": [
    "cols"
   ]
  },
  {
   "cell_type": "code",
   "execution_count": null,
   "id": "ff66bfa5",
   "metadata": {
    "id": "ff66bfa5",
    "outputId": "a95474eb-e9fa-4327-cf96-ec295a236508"
   },
   "outputs": [
    {
     "data": {
      "image/png": "[encoded data removed]",
      "text/plain": [
       "<Figure size 720x720 with 1 Axes>"
      ]
     },
     "metadata": {},
     "output_type": "display_data"
    }
   ],
   "source": [
    "#list of names on plots\n",
    "salah = df_pos[df_pos.shortName=='Mohamed Salah']\n",
    "salah = salah[cols]\n",
    "values = [salah[i].iloc[0] for i in cols]\n",
    "pct = [int(stats.percentileofscore(df_pos[i],salah[i].iloc[0])) for i in cols]\n",
    "\n",
    "names = [\"non-penalty Expected Goals\", \"non-penalty Goals\", \"Assists\", \"Key Passes\", \"Smart Passes\", \"Passes Ending in Final Third\", \"Passes Received in Final Third\", \"Offensive Ground Duels Won\", \"Air Duels Won\"]\n",
    "text_colors = [\"white\"]*9\n",
    "font_normal = FontManager((\"https://github.com/google/fonts/blob/main/apache/roboto/\"\n",
    "                           \"Roboto%5Bwdth,wght%5D.ttf?raw=true\"))\n",
    "font_bold = FontManager((\"https://github.com/google/fonts/blob/main/apache/robotoslab/\"\n",
    "                         \"RobotoSlab%5Bwght%5D.ttf?raw=true\"))\n",
    "\n",
    "names = []\n",
    "for i in cols:\n",
    "    i = i.title()\n",
    "    k = i.replace('_',' ').replace('Padj','').strip()\n",
    "    names.append(k)\n",
    "    \n",
    "    \n",
    "#PIZZA PLOT\n",
    "baker = PyPizza(\n",
    "    params=names,                  # list of parameters\n",
    "    straight_line_color=\"#F2F2F2\",  # color for straight lines\n",
    "    straight_line_lw=1,             # linewidth for straight lines\n",
    "    last_circle_lw=0,               # linewidth of last circle\n",
    "    other_circle_lw=0,              # linewidth for other circles\n",
    ")\n",
    "\n",
    "# plot pizza\n",
    "fig, ax = baker.make_pizza(\n",
    "    pct,                                      # list of values\n",
    "    figsize=(10, 10),                              # adjust figsize according to your need\n",
    "    color_blank_space=[\"#C5C5C5\"]*len(names),   # use same color to fill blank space\n",
    "    blank_alpha=0.4,                             # alpha for blank-space colors\n",
    "    kwargs_slices=dict(\n",
    "        facecolor=\"cornflowerblue\", edgecolor=\"#F2F2F2\",\n",
    "        zorder=2, linewidth=1\n",
    "    ),                                           # values to be used when plotting slices\n",
    "    kwargs_params=dict(\n",
    "        color=\"#000000\", fontsize=12,\n",
    "        fontproperties=font_normal.prop, va=\"center\"\n",
    "    ),                                           # values to be used when adding parameter\n",
    "    kwargs_values=dict(\n",
    "        color=\"#000000\", fontsize=12,\n",
    "        fontproperties=font_normal.prop, zorder=3,\n",
    "        bbox=dict(\n",
    "            edgecolor=\"#000000\", facecolor=\"cornflowerblue\",\n",
    "            boxstyle=\"round,pad=0.2\", lw=1\n",
    "        )\n",
    "    )                                            # values to be used when adding parameter-values\n",
    ")\n",
    "\n",
    "\n",
    "# add title\n",
    "fig.text(\n",
    "    0.515, 0.97, \"Mo Salah - Liverpool FC\\n Percentile Rank per 90 min. (Possession Adjusted) vs. Forwards\", size=18,\n",
    "    ha=\"center\", fontproperties=font_bold.prop, color=\"#000000\"\n",
    ")\n",
    "\n",
    "# add subtitle\n",
    "fig.text(\n",
    "    0.515, 0.942,\n",
    "    \"Premier League | Season 2017-18\",\n",
    "    size=15,\n",
    "    ha=\"center\", fontproperties=font_bold.prop, color=\"#000000\"\n",
    ")\n",
    "plt.show()"
   ]
  }
 ],
 "metadata": {
  "colab": {
   "provenance": []
  },
  "kernelspec": {
   "display_name": "Python 3 (ipykernel)",
   "language": "python",
   "name": "python3"
  },
  "language_info": {
   "codemirror_mode": {
    "name": "ipython",
    "version": 3
   },
   "file_extension": ".py",
   "mimetype": "text/x-python",
   "name": "python",
   "nbconvert_exporter": "python",
   "pygments_lexer": "ipython3",
   "version": "3.8.5"
  }
 },
 "nbformat": 4,
 "nbformat_minor": 5
}
